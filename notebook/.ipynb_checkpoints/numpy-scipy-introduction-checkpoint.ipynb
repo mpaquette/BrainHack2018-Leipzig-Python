{
 "cells": [
  {
   "cell_type": "markdown",
   "metadata": {},
   "source": [
    "# Numpy"
   ]
  },
  {
   "cell_type": "markdown",
   "metadata": {},
   "source": [
    "## BrainHack Global 2018 Leipzig  "
   ]
  },
  {
   "cell_type": "markdown",
   "metadata": {},
   "source": [
    "NumPy is the fundamental package for scientific computing with Python. It contains among other things:\n",
    "\n",
    "- a powerful N-dimensional array object\n",
    "- sophisticated (broadcasting) functions\n",
    "- tools for integrating C/C++ and Fortran code\n",
    "- useful linear algebra, Fourier transform, and random number capabilities"
   ]
  },
  {
   "cell_type": "code",
   "execution_count": 1,
   "metadata": {},
   "outputs": [],
   "source": [
    "import numpy as np"
   ]
  },
  {
   "cell_type": "code",
   "execution_count": 2,
   "metadata": {},
   "outputs": [],
   "source": [
    "v = np.array([1,2,3])"
   ]
  },
  {
   "cell_type": "code",
   "execution_count": 3,
   "metadata": {},
   "outputs": [
    {
     "ename": "ValueError",
     "evalue": "only 2 non-keyword arguments accepted",
     "output_type": "error",
     "traceback": [
      "\u001b[0;31m---------------------------------------------------------------------------\u001b[0m",
      "\u001b[0;31mValueError\u001b[0m                                Traceback (most recent call last)",
      "\u001b[0;32m<ipython-input-3-a4d22456da9e>\u001b[0m in \u001b[0;36m<module>\u001b[0;34m()\u001b[0m\n\u001b[0;32m----> 1\u001b[0;31m \u001b[0mnp\u001b[0m\u001b[0;34m.\u001b[0m\u001b[0marray\u001b[0m\u001b[0;34m(\u001b[0m\u001b[0;36m1\u001b[0m\u001b[0;34m,\u001b[0m\u001b[0;36m2\u001b[0m\u001b[0;34m,\u001b[0m\u001b[0;36m3\u001b[0m\u001b[0;34m)\u001b[0m\u001b[0;34m\u001b[0m\u001b[0m\n\u001b[0m",
      "\u001b[0;31mValueError\u001b[0m: only 2 non-keyword arguments accepted"
     ]
    }
   ],
   "source": [
    "np.array(1,2,3)"
   ]
  },
  {
   "cell_type": "code",
   "execution_count": 4,
   "metadata": {},
   "outputs": [
    {
     "data": {
      "text/plain": [
       "array([1, 2, 3])"
      ]
     },
     "execution_count": 4,
     "metadata": {},
     "output_type": "execute_result"
    }
   ],
   "source": [
    "v"
   ]
  },
  {
   "cell_type": "code",
   "execution_count": 5,
   "metadata": {
    "scrolled": true
   },
   "outputs": [
    {
     "data": {
      "text/plain": [
       "numpy.ndarray"
      ]
     },
     "execution_count": 5,
     "metadata": {},
     "output_type": "execute_result"
    }
   ],
   "source": [
    "type(v)"
   ]
  },
  {
   "cell_type": "code",
   "execution_count": 6,
   "metadata": {},
   "outputs": [
    {
     "data": {
      "text/plain": [
       "[1, 2, 3]"
      ]
     },
     "execution_count": 6,
     "metadata": {},
     "output_type": "execute_result"
    }
   ],
   "source": [
    "list(v)"
   ]
  },
  {
   "cell_type": "code",
   "execution_count": 7,
   "metadata": {},
   "outputs": [
    {
     "data": {
      "text/plain": [
       "1"
      ]
     },
     "execution_count": 7,
     "metadata": {},
     "output_type": "execute_result"
    }
   ],
   "source": [
    "v.ndim"
   ]
  },
  {
   "cell_type": "code",
   "execution_count": 8,
   "metadata": {},
   "outputs": [
    {
     "data": {
      "text/plain": [
       "(3,)"
      ]
     },
     "execution_count": 8,
     "metadata": {},
     "output_type": "execute_result"
    }
   ],
   "source": [
    "v.shape"
   ]
  },
  {
   "cell_type": "code",
   "execution_count": 9,
   "metadata": {},
   "outputs": [
    {
     "data": {
      "text/plain": [
       "dtype('int64')"
      ]
     },
     "execution_count": 9,
     "metadata": {},
     "output_type": "execute_result"
    }
   ],
   "source": [
    "v.dtype"
   ]
  },
  {
   "cell_type": "markdown",
   "metadata": {},
   "source": [
    "NumPy supports a much greater variety of numerical types than Python does. This section shows which are available, and how to modify an array’s data-type.\n",
    "\n",
    "| Data type | Description |\n",
    "|:--- |:--- |\n",
    "| bool_ | Boolean (True or False) stored as a byte |\n",
    "| int_ | Default integer type (same as C long; normally either int64 or int32) |\n",
    "| intc | Identical to C int (normally int32 or int64) |\n",
    "| intp | Integer used for indexing (same as C ssize_t; normally either int32 or int64) |\n",
    "| int8 | Byte (-128 to 127) |\n",
    "| int16 | Integer (-32768 to 32767) |\n",
    "| int32 | Integer (-2147483648 to 2147483647) |\n",
    "| int64 | Integer (-9223372036854775808 to 9223372036854775807) |\n",
    "| uint8 | Unsigned integer (0 to 255) |\n",
    "| uint16 | Unsigned integer (0 to 65535) |\n",
    "| uint32 | Unsigned integer (0 to 4294967295) |\n",
    "| uint64 | Unsigned integer (0 to 18446744073709551615) |\n",
    "| float_ | Shorthand for float64. |\n",
    "| float16 | Half precision float: sign bit, 5 bits exponent, 10 bits mantissa |\n",
    "| float32 | Single precision float: sign bit, 8 bits exponent, 23 bits mantissa |\n",
    "| float64 | Double precision float: sign bit, 11 bits exponent, 52 bits mantissa |\n",
    "| complex_ | Shorthand for complex128. |\n",
    "| complex64 | Complex number, represented by two 32-bit floats (real and imaginary components) |\n",
    "| complex128 | Complex number, represented by two 64-bit floats (real and imaginary components) |"
   ]
  },
  {
   "cell_type": "code",
   "execution_count": 10,
   "metadata": {},
   "outputs": [],
   "source": [
    "v2 = v.astype(np.float)"
   ]
  },
  {
   "cell_type": "code",
   "execution_count": 11,
   "metadata": {},
   "outputs": [
    {
     "data": {
      "text/plain": [
       "array([1., 2., 3.])"
      ]
     },
     "execution_count": 11,
     "metadata": {},
     "output_type": "execute_result"
    }
   ],
   "source": [
    "v2"
   ]
  },
  {
   "cell_type": "code",
   "execution_count": 12,
   "metadata": {
    "scrolled": true
   },
   "outputs": [
    {
     "data": {
      "text/plain": [
       "dtype('float64')"
      ]
     },
     "execution_count": 12,
     "metadata": {},
     "output_type": "execute_result"
    }
   ],
   "source": [
    "v2.dtype"
   ]
  },
  {
   "cell_type": "code",
   "execution_count": 13,
   "metadata": {},
   "outputs": [
    {
     "data": {
      "text/plain": [
       "1.0"
      ]
     },
     "execution_count": 13,
     "metadata": {},
     "output_type": "execute_result"
    }
   ],
   "source": [
    "v2[0]"
   ]
  },
  {
   "cell_type": "code",
   "execution_count": 14,
   "metadata": {},
   "outputs": [
    {
     "data": {
      "text/plain": [
       "2.0"
      ]
     },
     "execution_count": 14,
     "metadata": {},
     "output_type": "execute_result"
    }
   ],
   "source": [
    "v2[1]"
   ]
  },
  {
   "cell_type": "code",
   "execution_count": 15,
   "metadata": {
    "scrolled": true
   },
   "outputs": [
    {
     "data": {
      "text/plain": [
       "3.0"
      ]
     },
     "execution_count": 15,
     "metadata": {},
     "output_type": "execute_result"
    }
   ],
   "source": [
    "v2[2]"
   ]
  },
  {
   "cell_type": "code",
   "execution_count": 16,
   "metadata": {
    "scrolled": true
   },
   "outputs": [
    {
     "ename": "IndexError",
     "evalue": "index 3 is out of bounds for axis 0 with size 3",
     "output_type": "error",
     "traceback": [
      "\u001b[0;31m---------------------------------------------------------------------------\u001b[0m",
      "\u001b[0;31mIndexError\u001b[0m                                Traceback (most recent call last)",
      "\u001b[0;32m<ipython-input-16-9c9ef22a8a8c>\u001b[0m in \u001b[0;36m<module>\u001b[0;34m()\u001b[0m\n\u001b[0;32m----> 1\u001b[0;31m \u001b[0mv2\u001b[0m\u001b[0;34m[\u001b[0m\u001b[0;36m3\u001b[0m\u001b[0;34m]\u001b[0m\u001b[0;34m\u001b[0m\u001b[0m\n\u001b[0m",
      "\u001b[0;31mIndexError\u001b[0m: index 3 is out of bounds for axis 0 with size 3"
     ]
    }
   ],
   "source": [
    "v2[3]"
   ]
  },
  {
   "cell_type": "code",
   "execution_count": 17,
   "metadata": {},
   "outputs": [
    {
     "data": {
      "text/plain": [
       "3.0"
      ]
     },
     "execution_count": 17,
     "metadata": {},
     "output_type": "execute_result"
    }
   ],
   "source": [
    "v2[-1]"
   ]
  },
  {
   "cell_type": "code",
   "execution_count": 18,
   "metadata": {},
   "outputs": [
    {
     "data": {
      "text/plain": [
       "2.0"
      ]
     },
     "execution_count": 18,
     "metadata": {},
     "output_type": "execute_result"
    }
   ],
   "source": [
    "v2[-2]"
   ]
  },
  {
   "cell_type": "code",
   "execution_count": 19,
   "metadata": {},
   "outputs": [
    {
     "data": {
      "text/plain": [
       "1.0"
      ]
     },
     "execution_count": 19,
     "metadata": {},
     "output_type": "execute_result"
    }
   ],
   "source": [
    "v2[-3]"
   ]
  },
  {
   "cell_type": "code",
   "execution_count": 20,
   "metadata": {},
   "outputs": [
    {
     "ename": "IndexError",
     "evalue": "index -4 is out of bounds for axis 0 with size 3",
     "output_type": "error",
     "traceback": [
      "\u001b[0;31m---------------------------------------------------------------------------\u001b[0m",
      "\u001b[0;31mIndexError\u001b[0m                                Traceback (most recent call last)",
      "\u001b[0;32m<ipython-input-20-67db2bda8b94>\u001b[0m in \u001b[0;36m<module>\u001b[0;34m()\u001b[0m\n\u001b[0;32m----> 1\u001b[0;31m \u001b[0mv2\u001b[0m\u001b[0;34m[\u001b[0m\u001b[0;34m-\u001b[0m\u001b[0;36m4\u001b[0m\u001b[0;34m]\u001b[0m\u001b[0;34m\u001b[0m\u001b[0m\n\u001b[0m",
      "\u001b[0;31mIndexError\u001b[0m: index -4 is out of bounds for axis 0 with size 3"
     ]
    }
   ],
   "source": [
    "v2[-4]"
   ]
  },
  {
   "cell_type": "code",
   "execution_count": 21,
   "metadata": {},
   "outputs": [
    {
     "data": {
      "text/plain": [
       "array([1., 2., 3.])"
      ]
     },
     "execution_count": 21,
     "metadata": {},
     "output_type": "execute_result"
    }
   ],
   "source": [
    "v2[0:3]"
   ]
  },
  {
   "cell_type": "code",
   "execution_count": 22,
   "metadata": {},
   "outputs": [
    {
     "data": {
      "text/plain": [
       "array([1., 2., 3.])"
      ]
     },
     "execution_count": 22,
     "metadata": {},
     "output_type": "execute_result"
    }
   ],
   "source": [
    "v2[0:]"
   ]
  },
  {
   "cell_type": "code",
   "execution_count": 23,
   "metadata": {},
   "outputs": [
    {
     "data": {
      "text/plain": [
       "array([1., 2.])"
      ]
     },
     "execution_count": 23,
     "metadata": {},
     "output_type": "execute_result"
    }
   ],
   "source": [
    "v2[0:2]"
   ]
  },
  {
   "cell_type": "code",
   "execution_count": 24,
   "metadata": {},
   "outputs": [
    {
     "data": {
      "text/plain": [
       "array([1., 2.])"
      ]
     },
     "execution_count": 24,
     "metadata": {},
     "output_type": "execute_result"
    }
   ],
   "source": [
    "v2[:2]"
   ]
  },
  {
   "cell_type": "code",
   "execution_count": 25,
   "metadata": {},
   "outputs": [],
   "source": [
    "A = np.array([[1,2,3,0],\n",
    "              [4,5,6,0],\n",
    "              [7,8,9,0]], dtype = np.float)"
   ]
  },
  {
   "cell_type": "code",
   "execution_count": 26,
   "metadata": {},
   "outputs": [
    {
     "data": {
      "text/plain": [
       "array([[1., 2., 3., 0.],\n",
       "       [4., 5., 6., 0.],\n",
       "       [7., 8., 9., 0.]])"
      ]
     },
     "execution_count": 26,
     "metadata": {},
     "output_type": "execute_result"
    }
   ],
   "source": [
    "A"
   ]
  },
  {
   "cell_type": "code",
   "execution_count": 27,
   "metadata": {},
   "outputs": [
    {
     "data": {
      "text/plain": [
       "(3, 4)"
      ]
     },
     "execution_count": 27,
     "metadata": {},
     "output_type": "execute_result"
    }
   ],
   "source": [
    "A.shape"
   ]
  },
  {
   "cell_type": "code",
   "execution_count": 28,
   "metadata": {},
   "outputs": [
    {
     "data": {
      "text/plain": [
       "6.0"
      ]
     },
     "execution_count": 28,
     "metadata": {},
     "output_type": "execute_result"
    }
   ],
   "source": [
    "A[1,2]"
   ]
  },
  {
   "cell_type": "code",
   "execution_count": 29,
   "metadata": {},
   "outputs": [
    {
     "data": {
      "text/plain": [
       "array([5., 6.])"
      ]
     },
     "execution_count": 29,
     "metadata": {},
     "output_type": "execute_result"
    }
   ],
   "source": [
    "A[1,1:3]"
   ]
  },
  {
   "cell_type": "code",
   "execution_count": 30,
   "metadata": {},
   "outputs": [
    {
     "data": {
      "text/plain": [
       "(2,)"
      ]
     },
     "execution_count": 30,
     "metadata": {},
     "output_type": "execute_result"
    }
   ],
   "source": [
    "A[1,1:3].shape"
   ]
  },
  {
   "cell_type": "code",
   "execution_count": 31,
   "metadata": {},
   "outputs": [
    {
     "data": {
      "text/plain": [
       "array([[5., 6.],\n",
       "       [8., 9.]])"
      ]
     },
     "execution_count": 31,
     "metadata": {},
     "output_type": "execute_result"
    }
   ],
   "source": [
    "A[1:,1:3]"
   ]
  },
  {
   "cell_type": "code",
   "execution_count": 32,
   "metadata": {},
   "outputs": [
    {
     "data": {
      "text/plain": [
       "array([1., 2., 3., 0.])"
      ]
     },
     "execution_count": 32,
     "metadata": {},
     "output_type": "execute_result"
    }
   ],
   "source": [
    "A[0]"
   ]
  },
  {
   "cell_type": "code",
   "execution_count": 33,
   "metadata": {},
   "outputs": [
    {
     "data": {
      "text/plain": [
       "array([[1., 2., 3., 0.],\n",
       "       [4., 5., 6., 0.]])"
      ]
     },
     "execution_count": 33,
     "metadata": {},
     "output_type": "execute_result"
    }
   ],
   "source": [
    "A[0:2]"
   ]
  },
  {
   "cell_type": "code",
   "execution_count": 34,
   "metadata": {},
   "outputs": [
    {
     "data": {
      "text/plain": [
       "array([0., 0., 0.])"
      ]
     },
     "execution_count": 34,
     "metadata": {},
     "output_type": "execute_result"
    }
   ],
   "source": [
    "A[:,3]"
   ]
  },
  {
   "cell_type": "code",
   "execution_count": 35,
   "metadata": {},
   "outputs": [],
   "source": [
    "B = np.array([A,2*A+1])"
   ]
  },
  {
   "cell_type": "code",
   "execution_count": 36,
   "metadata": {},
   "outputs": [
    {
     "data": {
      "text/plain": [
       "(2, 3, 4)"
      ]
     },
     "execution_count": 36,
     "metadata": {},
     "output_type": "execute_result"
    }
   ],
   "source": [
    "B.shape"
   ]
  },
  {
   "cell_type": "code",
   "execution_count": 37,
   "metadata": {},
   "outputs": [
    {
     "data": {
      "text/plain": [
       "array([[[ 1.,  2.,  3.,  0.],\n",
       "        [ 4.,  5.,  6.,  0.],\n",
       "        [ 7.,  8.,  9.,  0.]],\n",
       "\n",
       "       [[ 3.,  5.,  7.,  1.],\n",
       "        [ 9., 11., 13.,  1.],\n",
       "        [15., 17., 19.,  1.]]])"
      ]
     },
     "execution_count": 37,
     "metadata": {},
     "output_type": "execute_result"
    }
   ],
   "source": [
    "B"
   ]
  },
  {
   "cell_type": "code",
   "execution_count": 38,
   "metadata": {},
   "outputs": [],
   "source": [
    "Zeros = np.zeros((4,4,4,4))"
   ]
  },
  {
   "cell_type": "code",
   "execution_count": 39,
   "metadata": {},
   "outputs": [
    {
     "data": {
      "text/plain": [
       "(4, 4, 4, 4)"
      ]
     },
     "execution_count": 39,
     "metadata": {},
     "output_type": "execute_result"
    }
   ],
   "source": [
    "Zeros.shape"
   ]
  },
  {
   "cell_type": "code",
   "execution_count": 40,
   "metadata": {
    "scrolled": true
   },
   "outputs": [
    {
     "data": {
      "text/plain": [
       "0.0"
      ]
     },
     "execution_count": 40,
     "metadata": {},
     "output_type": "execute_result"
    }
   ],
   "source": [
    "# Built-in simple \"stat\" function\n",
    "Zeros.min()"
   ]
  },
  {
   "cell_type": "code",
   "execution_count": 41,
   "metadata": {},
   "outputs": [
    {
     "data": {
      "text/plain": [
       "0.0"
      ]
     },
     "execution_count": 41,
     "metadata": {},
     "output_type": "execute_result"
    }
   ],
   "source": [
    "# NOTE: np.max(), np.maximum() and max() are 3 different function\n",
    "Zeros.max()"
   ]
  },
  {
   "cell_type": "code",
   "execution_count": 42,
   "metadata": {},
   "outputs": [],
   "source": [
    "Ones = np.ones((3,3))"
   ]
  },
  {
   "cell_type": "code",
   "execution_count": 43,
   "metadata": {},
   "outputs": [
    {
     "data": {
      "text/plain": [
       "array([[1., 1., 1.],\n",
       "       [1., 1., 1.],\n",
       "       [1., 1., 1.]])"
      ]
     },
     "execution_count": 43,
     "metadata": {},
     "output_type": "execute_result"
    }
   ],
   "source": [
    "Ones"
   ]
  },
  {
   "cell_type": "code",
   "execution_count": 44,
   "metadata": {
    "scrolled": true
   },
   "outputs": [
    {
     "data": {
      "text/plain": [
       "1.0"
      ]
     },
     "execution_count": 44,
     "metadata": {},
     "output_type": "execute_result"
    }
   ],
   "source": [
    "Ones.mean()"
   ]
  },
  {
   "cell_type": "code",
   "execution_count": 45,
   "metadata": {},
   "outputs": [
    {
     "data": {
      "text/plain": [
       "0.0"
      ]
     },
     "execution_count": 45,
     "metadata": {},
     "output_type": "execute_result"
    }
   ],
   "source": [
    "Ones.std()"
   ]
  },
  {
   "cell_type": "code",
   "execution_count": 46,
   "metadata": {
    "scrolled": true
   },
   "outputs": [
    {
     "data": {
      "text/plain": [
       "0.0"
      ]
     },
     "execution_count": 46,
     "metadata": {},
     "output_type": "execute_result"
    }
   ],
   "source": [
    "Ones.var()"
   ]
  },
  {
   "cell_type": "code",
   "execution_count": 47,
   "metadata": {},
   "outputs": [],
   "source": [
    "Id = np.eye(3)"
   ]
  },
  {
   "cell_type": "code",
   "execution_count": 48,
   "metadata": {},
   "outputs": [
    {
     "data": {
      "text/plain": [
       "array([[1., 0., 0.],\n",
       "       [0., 1., 0.],\n",
       "       [0., 0., 1.]])"
      ]
     },
     "execution_count": 48,
     "metadata": {},
     "output_type": "execute_result"
    }
   ],
   "source": [
    "Id"
   ]
  },
  {
   "cell_type": "code",
   "execution_count": 49,
   "metadata": {},
   "outputs": [
    {
     "data": {
      "text/plain": [
       "array([[3., 0., 0.],\n",
       "       [0., 3., 0.],\n",
       "       [0., 0., 3.]])"
      ]
     },
     "execution_count": 49,
     "metadata": {},
     "output_type": "execute_result"
    }
   ],
   "source": [
    "Id*3"
   ]
  },
  {
   "cell_type": "code",
   "execution_count": 50,
   "metadata": {},
   "outputs": [
    {
     "data": {
      "text/plain": [
       "array([[2., 0., 0.],\n",
       "       [0., 2., 0.],\n",
       "       [0., 0., 2.]])"
      ]
     },
     "execution_count": 50,
     "metadata": {},
     "output_type": "execute_result"
    }
   ],
   "source": [
    "Id+Id"
   ]
  },
  {
   "cell_type": "code",
   "execution_count": 51,
   "metadata": {},
   "outputs": [
    {
     "data": {
      "text/plain": [
       "array([[1., 1., 1.],\n",
       "       [1., 1., 1.],\n",
       "       [1., 1., 1.]])"
      ]
     },
     "execution_count": 51,
     "metadata": {},
     "output_type": "execute_result"
    }
   ],
   "source": [
    "Ones*Ones"
   ]
  },
  {
   "cell_type": "code",
   "execution_count": 52,
   "metadata": {},
   "outputs": [
    {
     "data": {
      "text/plain": [
       "array([[2., 2., 2.],\n",
       "       [2., 2., 2.],\n",
       "       [2., 2., 2.]])"
      ]
     },
     "execution_count": 52,
     "metadata": {},
     "output_type": "execute_result"
    }
   ],
   "source": [
    "Ones+1"
   ]
  },
  {
   "cell_type": "code",
   "execution_count": 53,
   "metadata": {},
   "outputs": [],
   "source": [
    "A = np.array([[1,2,3],[4,5,6]])"
   ]
  },
  {
   "cell_type": "code",
   "execution_count": 54,
   "metadata": {},
   "outputs": [
    {
     "data": {
      "text/plain": [
       "(2, 3)"
      ]
     },
     "execution_count": 54,
     "metadata": {},
     "output_type": "execute_result"
    }
   ],
   "source": [
    "A.shape"
   ]
  },
  {
   "cell_type": "code",
   "execution_count": 55,
   "metadata": {
    "scrolled": true
   },
   "outputs": [
    {
     "data": {
      "text/plain": [
       "array([[ 0.54030231, -0.41614684, -0.9899925 ],\n",
       "       [-0.65364362,  0.28366219,  0.96017029]])"
      ]
     },
     "execution_count": 55,
     "metadata": {},
     "output_type": "execute_result"
    }
   ],
   "source": [
    "# Vectorized math function\n",
    "np.cos(A)"
   ]
  },
  {
   "cell_type": "code",
   "execution_count": 56,
   "metadata": {},
   "outputs": [
    {
     "ename": "TypeError",
     "evalue": "only size-1 arrays can be converted to Python scalars",
     "output_type": "error",
     "traceback": [
      "\u001b[0;31m---------------------------------------------------------------------------\u001b[0m",
      "\u001b[0;31mTypeError\u001b[0m                                 Traceback (most recent call last)",
      "\u001b[0;32m<ipython-input-56-2e103ee6dc13>\u001b[0m in \u001b[0;36m<module>\u001b[0;34m()\u001b[0m\n\u001b[1;32m      1\u001b[0m \u001b[0;32mimport\u001b[0m \u001b[0mmath\u001b[0m\u001b[0;34m\u001b[0m\u001b[0m\n\u001b[0;32m----> 2\u001b[0;31m \u001b[0mmath\u001b[0m\u001b[0;34m.\u001b[0m\u001b[0mcos\u001b[0m\u001b[0;34m(\u001b[0m\u001b[0mA\u001b[0m\u001b[0;34m)\u001b[0m\u001b[0;34m\u001b[0m\u001b[0m\n\u001b[0m",
      "\u001b[0;31mTypeError\u001b[0m: only size-1 arrays can be converted to Python scalars"
     ]
    }
   ],
   "source": [
    "import math\n",
    "math.cos(A)"
   ]
  },
  {
   "cell_type": "code",
   "execution_count": 57,
   "metadata": {
    "scrolled": true
   },
   "outputs": [
    {
     "data": {
      "text/plain": [
       "array([[  2.71828183,   7.3890561 ,  20.08553692],\n",
       "       [ 54.59815003, 148.4131591 , 403.42879349]])"
      ]
     },
     "execution_count": 57,
     "metadata": {},
     "output_type": "execute_result"
    }
   ],
   "source": [
    "np.exp(A)"
   ]
  },
  {
   "cell_type": "code",
   "execution_count": 58,
   "metadata": {},
   "outputs": [
    {
     "data": {
      "text/plain": [
       "array([[1, 4],\n",
       "       [2, 5],\n",
       "       [3, 6]])"
      ]
     },
     "execution_count": 58,
     "metadata": {},
     "output_type": "execute_result"
    }
   ],
   "source": [
    "A.T"
   ]
  },
  {
   "cell_type": "code",
   "execution_count": 59,
   "metadata": {},
   "outputs": [
    {
     "data": {
      "text/plain": [
       "(3, 2)"
      ]
     },
     "execution_count": 59,
     "metadata": {},
     "output_type": "execute_result"
    }
   ],
   "source": [
    "A.T.shape"
   ]
  },
  {
   "cell_type": "code",
   "execution_count": 60,
   "metadata": {},
   "outputs": [
    {
     "data": {
      "text/plain": [
       "array([[14, 32],\n",
       "       [32, 77]])"
      ]
     },
     "execution_count": 60,
     "metadata": {},
     "output_type": "execute_result"
    }
   ],
   "source": [
    "np.dot(A, A.T)"
   ]
  },
  {
   "cell_type": "code",
   "execution_count": 61,
   "metadata": {},
   "outputs": [
    {
     "data": {
      "text/plain": [
       "array([[14, 32],\n",
       "       [32, 77]])"
      ]
     },
     "execution_count": 61,
     "metadata": {},
     "output_type": "execute_result"
    }
   ],
   "source": [
    "A.dot(A.T)"
   ]
  },
  {
   "cell_type": "code",
   "execution_count": 62,
   "metadata": {},
   "outputs": [],
   "source": [
    "def pythondot(A,B):\n",
    "    # Awful Naive implementation\n",
    "    newArray = np.empty((A.shape[0],B.shape[1]))\n",
    "    for x in range(newArray.shape[0]):\n",
    "        for y in range(newArray.shape[1]):\n",
    "            tmp = 0\n",
    "            for i in range(A.shape[1]):\n",
    "                    tmp += A[x,i]*B[i,y]\n",
    "            newArray[x,y] = tmp\n",
    "    return newArray"
   ]
  },
  {
   "cell_type": "code",
   "execution_count": 63,
   "metadata": {},
   "outputs": [],
   "source": [
    "A = np.random.rand(100,50)"
   ]
  },
  {
   "cell_type": "code",
   "execution_count": 64,
   "metadata": {},
   "outputs": [],
   "source": [
    "B = np.random.rand(50,100)"
   ]
  },
  {
   "cell_type": "code",
   "execution_count": 65,
   "metadata": {},
   "outputs": [
    {
     "ename": "NameError",
     "evalue": "name 'time' is not defined",
     "output_type": "error",
     "traceback": [
      "\u001b[0;31m---------------------------------------------------------------------------\u001b[0m",
      "\u001b[0;31mNameError\u001b[0m                                 Traceback (most recent call last)",
      "\u001b[0;32m<ipython-input-65-1dda9ec29a18>\u001b[0m in \u001b[0;36m<module>\u001b[0;34m()\u001b[0m\n\u001b[0;32m----> 1\u001b[0;31m \u001b[0mt1\u001b[0m\u001b[0;34m=\u001b[0m\u001b[0mtime\u001b[0m\u001b[0;34m(\u001b[0m\u001b[0;34m)\u001b[0m\u001b[0;34m\u001b[0m\u001b[0m\n\u001b[0m\u001b[1;32m      2\u001b[0m \u001b[0mres1\u001b[0m \u001b[0;34m=\u001b[0m \u001b[0mnp\u001b[0m\u001b[0;34m.\u001b[0m\u001b[0mdot\u001b[0m\u001b[0;34m(\u001b[0m\u001b[0mA\u001b[0m\u001b[0;34m,\u001b[0m\u001b[0mB\u001b[0m\u001b[0;34m)\u001b[0m\u001b[0;34m\u001b[0m\u001b[0m\n\u001b[1;32m      3\u001b[0m \u001b[0mprint\u001b[0m\u001b[0;34m(\u001b[0m\u001b[0mtime\u001b[0m\u001b[0;34m(\u001b[0m\u001b[0;34m)\u001b[0m\u001b[0;34m-\u001b[0m\u001b[0mt1\u001b[0m\u001b[0;34m)\u001b[0m\u001b[0;34m\u001b[0m\u001b[0m\n",
      "\u001b[0;31mNameError\u001b[0m: name 'time' is not defined"
     ]
    }
   ],
   "source": [
    "t1=time()\n",
    "res1 = np.dot(A,B)\n",
    "print(time()-t1)"
   ]
  },
  {
   "cell_type": "code",
   "execution_count": 66,
   "metadata": {},
   "outputs": [
    {
     "ename": "NameError",
     "evalue": "name 'time' is not defined",
     "output_type": "error",
     "traceback": [
      "\u001b[0;31m---------------------------------------------------------------------------\u001b[0m",
      "\u001b[0;31mNameError\u001b[0m                                 Traceback (most recent call last)",
      "\u001b[0;32m<ipython-input-66-1ef70a13d283>\u001b[0m in \u001b[0;36m<module>\u001b[0;34m()\u001b[0m\n\u001b[0;32m----> 1\u001b[0;31m \u001b[0mt1\u001b[0m\u001b[0;34m=\u001b[0m\u001b[0mtime\u001b[0m\u001b[0;34m(\u001b[0m\u001b[0;34m)\u001b[0m\u001b[0;34m\u001b[0m\u001b[0m\n\u001b[0m\u001b[1;32m      2\u001b[0m \u001b[0mres2\u001b[0m \u001b[0;34m=\u001b[0m \u001b[0mA\u001b[0m\u001b[0;34m.\u001b[0m\u001b[0mdot\u001b[0m\u001b[0;34m(\u001b[0m\u001b[0mB\u001b[0m\u001b[0;34m)\u001b[0m\u001b[0;34m\u001b[0m\u001b[0m\n\u001b[1;32m      3\u001b[0m \u001b[0mprint\u001b[0m\u001b[0;34m(\u001b[0m\u001b[0mtime\u001b[0m\u001b[0;34m(\u001b[0m\u001b[0;34m)\u001b[0m\u001b[0;34m-\u001b[0m\u001b[0mt1\u001b[0m\u001b[0;34m)\u001b[0m\u001b[0;34m\u001b[0m\u001b[0m\n",
      "\u001b[0;31mNameError\u001b[0m: name 'time' is not defined"
     ]
    }
   ],
   "source": [
    "t1=time()\n",
    "res2 = A.dot(B)\n",
    "print(time()-t1)"
   ]
  },
  {
   "cell_type": "code",
   "execution_count": 67,
   "metadata": {
    "scrolled": true
   },
   "outputs": [
    {
     "ename": "NameError",
     "evalue": "name 'time' is not defined",
     "output_type": "error",
     "traceback": [
      "\u001b[0;31m---------------------------------------------------------------------------\u001b[0m",
      "\u001b[0;31mNameError\u001b[0m                                 Traceback (most recent call last)",
      "\u001b[0;32m<ipython-input-67-a2a85c050b0c>\u001b[0m in \u001b[0;36m<module>\u001b[0;34m()\u001b[0m\n\u001b[0;32m----> 1\u001b[0;31m \u001b[0mt1\u001b[0m\u001b[0;34m=\u001b[0m\u001b[0mtime\u001b[0m\u001b[0;34m(\u001b[0m\u001b[0;34m)\u001b[0m\u001b[0;34m\u001b[0m\u001b[0m\n\u001b[0m\u001b[1;32m      2\u001b[0m \u001b[0mres3\u001b[0m \u001b[0;34m=\u001b[0m \u001b[0mpythondot\u001b[0m\u001b[0;34m(\u001b[0m\u001b[0mA\u001b[0m\u001b[0;34m,\u001b[0m\u001b[0mB\u001b[0m\u001b[0;34m)\u001b[0m\u001b[0;34m\u001b[0m\u001b[0m\n\u001b[1;32m      3\u001b[0m \u001b[0mprint\u001b[0m\u001b[0;34m(\u001b[0m\u001b[0mtime\u001b[0m\u001b[0;34m(\u001b[0m\u001b[0;34m)\u001b[0m\u001b[0;34m-\u001b[0m\u001b[0mt1\u001b[0m\u001b[0;34m)\u001b[0m\u001b[0;34m\u001b[0m\u001b[0m\n",
      "\u001b[0;31mNameError\u001b[0m: name 'time' is not defined"
     ]
    }
   ],
   "source": [
    "t1=time()\n",
    "res3 = pythondot(A,B)\n",
    "print(time()-t1)"
   ]
  },
  {
   "cell_type": "code",
   "execution_count": 68,
   "metadata": {},
   "outputs": [
    {
     "ename": "NameError",
     "evalue": "name 'res1' is not defined",
     "output_type": "error",
     "traceback": [
      "\u001b[0;31m---------------------------------------------------------------------------\u001b[0m",
      "\u001b[0;31mNameError\u001b[0m                                 Traceback (most recent call last)",
      "\u001b[0;32m<ipython-input-68-d7b15409d248>\u001b[0m in \u001b[0;36m<module>\u001b[0;34m()\u001b[0m\n\u001b[0;32m----> 1\u001b[0;31m \u001b[0mnp\u001b[0m\u001b[0;34m.\u001b[0m\u001b[0mallclose\u001b[0m\u001b[0;34m(\u001b[0m\u001b[0mres1\u001b[0m\u001b[0;34m,\u001b[0m\u001b[0mres2\u001b[0m\u001b[0;34m)\u001b[0m\u001b[0;34m\u001b[0m\u001b[0m\n\u001b[0m",
      "\u001b[0;31mNameError\u001b[0m: name 'res1' is not defined"
     ]
    }
   ],
   "source": [
    "np.allclose(res1,res2)"
   ]
  },
  {
   "cell_type": "code",
   "execution_count": 69,
   "metadata": {
    "scrolled": true
   },
   "outputs": [
    {
     "ename": "NameError",
     "evalue": "name 'res1' is not defined",
     "output_type": "error",
     "traceback": [
      "\u001b[0;31m---------------------------------------------------------------------------\u001b[0m",
      "\u001b[0;31mNameError\u001b[0m                                 Traceback (most recent call last)",
      "\u001b[0;32m<ipython-input-69-bca63f24048d>\u001b[0m in \u001b[0;36m<module>\u001b[0;34m()\u001b[0m\n\u001b[0;32m----> 1\u001b[0;31m \u001b[0mnp\u001b[0m\u001b[0;34m.\u001b[0m\u001b[0mallclose\u001b[0m\u001b[0;34m(\u001b[0m\u001b[0mres1\u001b[0m\u001b[0;34m,\u001b[0m\u001b[0mres3\u001b[0m\u001b[0;34m)\u001b[0m\u001b[0;34m\u001b[0m\u001b[0m\n\u001b[0m",
      "\u001b[0;31mNameError\u001b[0m: name 'res1' is not defined"
     ]
    }
   ],
   "source": [
    "np.allclose(res1,res3)"
   ]
  },
  {
   "cell_type": "code",
   "execution_count": 70,
   "metadata": {},
   "outputs": [],
   "source": [
    "x = np.linspace(0,1,9)"
   ]
  },
  {
   "cell_type": "code",
   "execution_count": 71,
   "metadata": {
    "scrolled": true
   },
   "outputs": [
    {
     "data": {
      "text/plain": [
       "array([0.   , 0.125, 0.25 , 0.375, 0.5  , 0.625, 0.75 , 0.875, 1.   ])"
      ]
     },
     "execution_count": 71,
     "metadata": {},
     "output_type": "execute_result"
    }
   ],
   "source": [
    "x"
   ]
  },
  {
   "cell_type": "code",
   "execution_count": 72,
   "metadata": {
    "scrolled": true
   },
   "outputs": [
    {
     "data": {
      "text/plain": [
       "(9,)"
      ]
     },
     "execution_count": 72,
     "metadata": {},
     "output_type": "execute_result"
    }
   ],
   "source": [
    "x.shape"
   ]
  },
  {
   "cell_type": "code",
   "execution_count": 73,
   "metadata": {},
   "outputs": [],
   "source": [
    "def func(position):\n",
    "    return position**2"
   ]
  },
  {
   "cell_type": "code",
   "execution_count": 74,
   "metadata": {},
   "outputs": [
    {
     "data": {
      "text/plain": [
       "array([0.      , 0.015625, 0.0625  , 0.140625, 0.25    , 0.390625,\n",
       "       0.5625  , 0.765625, 1.      ])"
      ]
     },
     "execution_count": 74,
     "metadata": {},
     "output_type": "execute_result"
    }
   ],
   "source": [
    "func(x)"
   ]
  },
  {
   "cell_type": "markdown",
   "metadata": {},
   "source": [
    "#### Quick note on Array View "
   ]
  },
  {
   "cell_type": "code",
   "execution_count": 75,
   "metadata": {},
   "outputs": [
    {
     "data": {
      "text/plain": [
       "array([[0.99918106, 0.77065336, 0.20817894, ..., 0.08205523, 0.54876788,\n",
       "        0.88912123],\n",
       "       [0.13211603, 0.26217584, 0.05005058, ..., 0.73681755, 0.10139733,\n",
       "        0.17150581],\n",
       "       [0.0481328 , 0.66528955, 0.69815696, ..., 0.69331194, 0.89907659,\n",
       "        0.17673604],\n",
       "       ...,\n",
       "       [0.08592633, 0.04458135, 0.5585861 , ..., 0.03031255, 0.2680388 ,\n",
       "        0.81668336],\n",
       "       [0.95634899, 0.90997567, 0.66934524, ..., 0.0515353 , 0.6638556 ,\n",
       "        0.0445675 ],\n",
       "       [0.74394033, 0.82109355, 0.07576706, ..., 0.94141826, 0.47103947,\n",
       "        0.90712961]])"
      ]
     },
     "execution_count": 75,
     "metadata": {},
     "output_type": "execute_result"
    }
   ],
   "source": [
    "A"
   ]
  },
  {
   "cell_type": "code",
   "execution_count": 76,
   "metadata": {},
   "outputs": [
    {
     "data": {
      "text/plain": [
       "0.05005058197933898"
      ]
     },
     "execution_count": 76,
     "metadata": {},
     "output_type": "execute_result"
    }
   ],
   "source": [
    "A[1,2]"
   ]
  },
  {
   "cell_type": "code",
   "execution_count": 77,
   "metadata": {},
   "outputs": [],
   "source": [
    "A[1,2] = 999"
   ]
  },
  {
   "cell_type": "code",
   "execution_count": 78,
   "metadata": {},
   "outputs": [
    {
     "data": {
      "text/plain": [
       "array([[9.99181058e-01, 7.70653360e-01, 2.08178940e-01, ...,\n",
       "        8.20552344e-02, 5.48767884e-01, 8.89121230e-01],\n",
       "       [1.32116026e-01, 2.62175841e-01, 9.99000000e+02, ...,\n",
       "        7.36817555e-01, 1.01397331e-01, 1.71505809e-01],\n",
       "       [4.81327993e-02, 6.65289550e-01, 6.98156959e-01, ...,\n",
       "        6.93311936e-01, 8.99076588e-01, 1.76736036e-01],\n",
       "       ...,\n",
       "       [8.59263304e-02, 4.45813460e-02, 5.58586103e-01, ...,\n",
       "        3.03125508e-02, 2.68038797e-01, 8.16683358e-01],\n",
       "       [9.56348988e-01, 9.09975672e-01, 6.69345238e-01, ...,\n",
       "        5.15353025e-02, 6.63855605e-01, 4.45674974e-02],\n",
       "       [7.43940327e-01, 8.21093545e-01, 7.57670614e-02, ...,\n",
       "        9.41418259e-01, 4.71039469e-01, 9.07129615e-01]])"
      ]
     },
     "execution_count": 78,
     "metadata": {},
     "output_type": "execute_result"
    }
   ],
   "source": [
    "A"
   ]
  },
  {
   "cell_type": "code",
   "execution_count": 79,
   "metadata": {},
   "outputs": [],
   "source": [
    "B = A.copy()"
   ]
  },
  {
   "cell_type": "code",
   "execution_count": 80,
   "metadata": {},
   "outputs": [
    {
     "data": {
      "text/plain": [
       "array([[9.99181058e-01, 7.70653360e-01, 2.08178940e-01, ...,\n",
       "        8.20552344e-02, 5.48767884e-01, 8.89121230e-01],\n",
       "       [1.32116026e-01, 2.62175841e-01, 9.99000000e+02, ...,\n",
       "        7.36817555e-01, 1.01397331e-01, 1.71505809e-01],\n",
       "       [4.81327993e-02, 6.65289550e-01, 6.98156959e-01, ...,\n",
       "        6.93311936e-01, 8.99076588e-01, 1.76736036e-01],\n",
       "       ...,\n",
       "       [8.59263304e-02, 4.45813460e-02, 5.58586103e-01, ...,\n",
       "        3.03125508e-02, 2.68038797e-01, 8.16683358e-01],\n",
       "       [9.56348988e-01, 9.09975672e-01, 6.69345238e-01, ...,\n",
       "        5.15353025e-02, 6.63855605e-01, 4.45674974e-02],\n",
       "       [7.43940327e-01, 8.21093545e-01, 7.57670614e-02, ...,\n",
       "        9.41418259e-01, 4.71039469e-01, 9.07129615e-01]])"
      ]
     },
     "execution_count": 80,
     "metadata": {},
     "output_type": "execute_result"
    }
   ],
   "source": [
    "B"
   ]
  },
  {
   "cell_type": "code",
   "execution_count": 81,
   "metadata": {},
   "outputs": [],
   "source": [
    "B[1,2] = 6"
   ]
  },
  {
   "cell_type": "code",
   "execution_count": 82,
   "metadata": {},
   "outputs": [
    {
     "data": {
      "text/plain": [
       "array([[0.99918106, 0.77065336, 0.20817894, ..., 0.08205523, 0.54876788,\n",
       "        0.88912123],\n",
       "       [0.13211603, 0.26217584, 6.        , ..., 0.73681755, 0.10139733,\n",
       "        0.17150581],\n",
       "       [0.0481328 , 0.66528955, 0.69815696, ..., 0.69331194, 0.89907659,\n",
       "        0.17673604],\n",
       "       ...,\n",
       "       [0.08592633, 0.04458135, 0.5585861 , ..., 0.03031255, 0.2680388 ,\n",
       "        0.81668336],\n",
       "       [0.95634899, 0.90997567, 0.66934524, ..., 0.0515353 , 0.6638556 ,\n",
       "        0.0445675 ],\n",
       "       [0.74394033, 0.82109355, 0.07576706, ..., 0.94141826, 0.47103947,\n",
       "        0.90712961]])"
      ]
     },
     "execution_count": 82,
     "metadata": {},
     "output_type": "execute_result"
    }
   ],
   "source": [
    "B"
   ]
  },
  {
   "cell_type": "code",
   "execution_count": 83,
   "metadata": {},
   "outputs": [
    {
     "data": {
      "text/plain": [
       "array([[9.99181058e-01, 7.70653360e-01, 2.08178940e-01, ...,\n",
       "        8.20552344e-02, 5.48767884e-01, 8.89121230e-01],\n",
       "       [1.32116026e-01, 2.62175841e-01, 9.99000000e+02, ...,\n",
       "        7.36817555e-01, 1.01397331e-01, 1.71505809e-01],\n",
       "       [4.81327993e-02, 6.65289550e-01, 6.98156959e-01, ...,\n",
       "        6.93311936e-01, 8.99076588e-01, 1.76736036e-01],\n",
       "       ...,\n",
       "       [8.59263304e-02, 4.45813460e-02, 5.58586103e-01, ...,\n",
       "        3.03125508e-02, 2.68038797e-01, 8.16683358e-01],\n",
       "       [9.56348988e-01, 9.09975672e-01, 6.69345238e-01, ...,\n",
       "        5.15353025e-02, 6.63855605e-01, 4.45674974e-02],\n",
       "       [7.43940327e-01, 8.21093545e-01, 7.57670614e-02, ...,\n",
       "        9.41418259e-01, 4.71039469e-01, 9.07129615e-01]])"
      ]
     },
     "execution_count": 83,
     "metadata": {},
     "output_type": "execute_result"
    }
   ],
   "source": [
    "A"
   ]
  },
  {
   "cell_type": "code",
   "execution_count": 84,
   "metadata": {},
   "outputs": [],
   "source": [
    "def func(A):\n",
    "    A += 1\n",
    "    return A"
   ]
  },
  {
   "cell_type": "code",
   "execution_count": 85,
   "metadata": {},
   "outputs": [
    {
     "data": {
      "text/plain": [
       "array([[1.99918106, 1.77065336, 1.20817894, ..., 1.08205523, 1.54876788,\n",
       "        1.88912123],\n",
       "       [1.13211603, 1.26217584, 7.        , ..., 1.73681755, 1.10139733,\n",
       "        1.17150581],\n",
       "       [1.0481328 , 1.66528955, 1.69815696, ..., 1.69331194, 1.89907659,\n",
       "        1.17673604],\n",
       "       ...,\n",
       "       [1.08592633, 1.04458135, 1.5585861 , ..., 1.03031255, 1.2680388 ,\n",
       "        1.81668336],\n",
       "       [1.95634899, 1.90997567, 1.66934524, ..., 1.0515353 , 1.6638556 ,\n",
       "        1.0445675 ],\n",
       "       [1.74394033, 1.82109355, 1.07576706, ..., 1.94141826, 1.47103947,\n",
       "        1.90712961]])"
      ]
     },
     "execution_count": 85,
     "metadata": {},
     "output_type": "execute_result"
    }
   ],
   "source": [
    "func(B)"
   ]
  },
  {
   "cell_type": "code",
   "execution_count": 86,
   "metadata": {},
   "outputs": [
    {
     "data": {
      "text/plain": [
       "array([[1.99918106, 1.77065336, 1.20817894, ..., 1.08205523, 1.54876788,\n",
       "        1.88912123],\n",
       "       [1.13211603, 1.26217584, 7.        , ..., 1.73681755, 1.10139733,\n",
       "        1.17150581],\n",
       "       [1.0481328 , 1.66528955, 1.69815696, ..., 1.69331194, 1.89907659,\n",
       "        1.17673604],\n",
       "       ...,\n",
       "       [1.08592633, 1.04458135, 1.5585861 , ..., 1.03031255, 1.2680388 ,\n",
       "        1.81668336],\n",
       "       [1.95634899, 1.90997567, 1.66934524, ..., 1.0515353 , 1.6638556 ,\n",
       "        1.0445675 ],\n",
       "       [1.74394033, 1.82109355, 1.07576706, ..., 1.94141826, 1.47103947,\n",
       "        1.90712961]])"
      ]
     },
     "execution_count": 86,
     "metadata": {},
     "output_type": "execute_result"
    }
   ],
   "source": [
    "B"
   ]
  },
  {
   "cell_type": "markdown",
   "metadata": {},
   "source": [
    "### Broadcasting "
   ]
  },
  {
   "cell_type": "code",
   "execution_count": 87,
   "metadata": {},
   "outputs": [],
   "source": [
    "A = np.random.randint(low=1, high=9, size=(2,5))"
   ]
  },
  {
   "cell_type": "code",
   "execution_count": 88,
   "metadata": {},
   "outputs": [
    {
     "data": {
      "text/plain": [
       "array([[2, 7, 1, 7, 8],\n",
       "       [7, 3, 3, 6, 1]])"
      ]
     },
     "execution_count": 88,
     "metadata": {},
     "output_type": "execute_result"
    }
   ],
   "source": [
    "A"
   ]
  },
  {
   "cell_type": "code",
   "execution_count": 89,
   "metadata": {},
   "outputs": [
    {
     "data": {
      "text/plain": [
       "(2, 5)"
      ]
     },
     "execution_count": 89,
     "metadata": {},
     "output_type": "execute_result"
    }
   ],
   "source": [
    "A.shape"
   ]
  },
  {
   "cell_type": "code",
   "execution_count": 90,
   "metadata": {},
   "outputs": [],
   "source": [
    "B = np.random.randint(low=1, high=9, size=(5,))"
   ]
  },
  {
   "cell_type": "code",
   "execution_count": 91,
   "metadata": {},
   "outputs": [
    {
     "data": {
      "text/plain": [
       "array([8, 7, 4, 5, 6])"
      ]
     },
     "execution_count": 91,
     "metadata": {},
     "output_type": "execute_result"
    }
   ],
   "source": [
    "B"
   ]
  },
  {
   "cell_type": "code",
   "execution_count": 92,
   "metadata": {},
   "outputs": [
    {
     "data": {
      "text/plain": [
       "(5,)"
      ]
     },
     "execution_count": 92,
     "metadata": {},
     "output_type": "execute_result"
    }
   ],
   "source": [
    "B.shape"
   ]
  },
  {
   "cell_type": "code",
   "execution_count": 93,
   "metadata": {},
   "outputs": [
    {
     "data": {
      "text/plain": [
       "array([[16, 49,  4, 35, 48],\n",
       "       [56, 21, 12, 30,  6]])"
      ]
     },
     "execution_count": 93,
     "metadata": {},
     "output_type": "execute_result"
    }
   ],
   "source": [
    "A*B"
   ]
  },
  {
   "cell_type": "code",
   "execution_count": 94,
   "metadata": {},
   "outputs": [],
   "source": [
    "A = A.T"
   ]
  },
  {
   "cell_type": "code",
   "execution_count": 95,
   "metadata": {},
   "outputs": [
    {
     "data": {
      "text/plain": [
       "array([[2, 7],\n",
       "       [7, 3],\n",
       "       [1, 3],\n",
       "       [7, 6],\n",
       "       [8, 1]])"
      ]
     },
     "execution_count": 95,
     "metadata": {},
     "output_type": "execute_result"
    }
   ],
   "source": [
    "A"
   ]
  },
  {
   "cell_type": "code",
   "execution_count": 96,
   "metadata": {},
   "outputs": [
    {
     "data": {
      "text/plain": [
       "(5, 2)"
      ]
     },
     "execution_count": 96,
     "metadata": {},
     "output_type": "execute_result"
    }
   ],
   "source": [
    "A.shape"
   ]
  },
  {
   "cell_type": "code",
   "execution_count": 97,
   "metadata": {},
   "outputs": [
    {
     "ename": "ValueError",
     "evalue": "operands could not be broadcast together with shapes (5,2) (5,) ",
     "output_type": "error",
     "traceback": [
      "\u001b[0;31m---------------------------------------------------------------------------\u001b[0m",
      "\u001b[0;31mValueError\u001b[0m                                Traceback (most recent call last)",
      "\u001b[0;32m<ipython-input-97-47896efed660>\u001b[0m in \u001b[0;36m<module>\u001b[0;34m()\u001b[0m\n\u001b[0;32m----> 1\u001b[0;31m \u001b[0mA\u001b[0m\u001b[0;34m*\u001b[0m\u001b[0mB\u001b[0m\u001b[0;34m\u001b[0m\u001b[0m\n\u001b[0m",
      "\u001b[0;31mValueError\u001b[0m: operands could not be broadcast together with shapes (5,2) (5,) "
     ]
    }
   ],
   "source": [
    "A*B"
   ]
  },
  {
   "cell_type": "code",
   "execution_count": 98,
   "metadata": {},
   "outputs": [],
   "source": [
    "A = np.random.randint(low=1, high=9, size=(7,6,5,4,3))"
   ]
  },
  {
   "cell_type": "code",
   "execution_count": 99,
   "metadata": {},
   "outputs": [],
   "source": [
    "B = np.random.randint(low=1, high=9, size=(1,6,1,1,3))"
   ]
  },
  {
   "cell_type": "code",
   "execution_count": 100,
   "metadata": {},
   "outputs": [
    {
     "data": {
      "text/plain": [
       "(7, 6, 5, 4, 3)"
      ]
     },
     "execution_count": 100,
     "metadata": {},
     "output_type": "execute_result"
    }
   ],
   "source": [
    "A.shape"
   ]
  },
  {
   "cell_type": "code",
   "execution_count": 101,
   "metadata": {},
   "outputs": [
    {
     "data": {
      "text/plain": [
       "(1, 6, 1, 1, 3)"
      ]
     },
     "execution_count": 101,
     "metadata": {},
     "output_type": "execute_result"
    }
   ],
   "source": [
    "B.shape"
   ]
  },
  {
   "cell_type": "code",
   "execution_count": 102,
   "metadata": {},
   "outputs": [
    {
     "data": {
      "text/plain": [
       "array([[[[[13, 10,  4],\n",
       "          [ 9, 11,  9],\n",
       "          [ 9,  9,  6],\n",
       "          [12,  9,  4]],\n",
       "\n",
       "         [[ 8,  6, 10],\n",
       "          [13, 11,  9],\n",
       "          [ 9,  7,  3],\n",
       "          [14, 10,  6]],\n",
       "\n",
       "         [[10,  7,  3],\n",
       "          [15, 11, 10],\n",
       "          [12, 12,  3],\n",
       "          [13, 10,  8]],\n",
       "\n",
       "         [[ 9, 11,  4],\n",
       "          [10,  9,  3],\n",
       "          [ 8,  5, 10],\n",
       "          [15,  8,  8]],\n",
       "\n",
       "         [[13,  7, 10],\n",
       "          [ 9, 10,  3],\n",
       "          [14,  6,  9],\n",
       "          [10, 11,  3]]],\n",
       "\n",
       "\n",
       "        [[[10,  8, 12],\n",
       "          [12,  8,  9],\n",
       "          [ 6,  9, 10],\n",
       "          [ 8,  8, 10]],\n",
       "\n",
       "         [[ 6, 11, 16],\n",
       "          [ 9,  7, 11],\n",
       "          [ 6, 10, 10],\n",
       "          [12, 11, 11]],\n",
       "\n",
       "         [[ 7,  7, 13],\n",
       "          [11,  6, 16],\n",
       "          [12, 10, 16],\n",
       "          [12, 13, 13]],\n",
       "\n",
       "         [[ 9,  9,  9],\n",
       "          [11, 13, 13],\n",
       "          [10,  8, 14],\n",
       "          [11, 12, 14]],\n",
       "\n",
       "         [[12,  9, 10],\n",
       "          [ 8,  9, 12],\n",
       "          [11, 11,  9],\n",
       "          [ 8,  7, 15]]],\n",
       "\n",
       "\n",
       "        [[[ 5,  5,  6],\n",
       "          [ 9,  3,  8],\n",
       "          [ 8, 10,  7],\n",
       "          [ 9,  4,  3]],\n",
       "\n",
       "         [[ 8,  6,  4],\n",
       "          [ 9,  7,  9],\n",
       "          [ 7,  7,  9],\n",
       "          [ 9, 10,  7]],\n",
       "\n",
       "         [[ 3,  8,  4],\n",
       "          [ 5,  5,  9],\n",
       "          [ 9,  9,  3],\n",
       "          [ 6,  7,  6]],\n",
       "\n",
       "         [[ 3,  5, 10],\n",
       "          [ 6,  3,  7],\n",
       "          [ 8,  6,  7],\n",
       "          [ 5,  3,  7]],\n",
       "\n",
       "         [[ 9,  6, 10],\n",
       "          [ 9,  5,  5],\n",
       "          [10,  7,  8],\n",
       "          [ 9,  9,  5]]],\n",
       "\n",
       "\n",
       "        [[[ 7,  9, 15],\n",
       "          [ 6, 13, 11],\n",
       "          [ 5, 13, 11],\n",
       "          [ 8, 16, 13]],\n",
       "\n",
       "         [[ 5, 13, 16],\n",
       "          [ 2, 12, 11],\n",
       "          [ 7, 10,  9],\n",
       "          [ 6, 15, 14]],\n",
       "\n",
       "         [[ 9,  9, 12],\n",
       "          [ 5, 12, 16],\n",
       "          [ 3, 15, 16],\n",
       "          [ 4, 14, 11]],\n",
       "\n",
       "         [[ 3, 13, 14],\n",
       "          [ 6, 16, 16],\n",
       "          [ 3, 13, 14],\n",
       "          [ 4, 16, 16]],\n",
       "\n",
       "         [[ 5, 11, 16],\n",
       "          [ 2, 14, 12],\n",
       "          [ 7, 13, 10],\n",
       "          [ 6, 11, 15]]],\n",
       "\n",
       "\n",
       "        [[[14, 12,  9],\n",
       "          [ 9,  7,  6],\n",
       "          [13, 12, 10],\n",
       "          [10, 13, 10]],\n",
       "\n",
       "         [[ 9,  7,  7],\n",
       "          [14,  7,  6],\n",
       "          [16,  7,  7],\n",
       "          [12, 10, 11]],\n",
       "\n",
       "         [[14, 10, 10],\n",
       "          [14, 13,  6],\n",
       "          [10, 12, 10],\n",
       "          [16, 10, 10]],\n",
       "\n",
       "         [[16, 13,  9],\n",
       "          [13, 11,  8],\n",
       "          [16,  7,  7],\n",
       "          [10,  9,  8]],\n",
       "\n",
       "         [[10, 13,  6],\n",
       "          [15, 10, 11],\n",
       "          [10, 11,  4],\n",
       "          [12, 12,  8]]],\n",
       "\n",
       "\n",
       "        [[[ 9, 12,  3],\n",
       "          [ 8, 10,  4],\n",
       "          [ 5,  8,  5],\n",
       "          [ 4, 12,  8]],\n",
       "\n",
       "         [[ 4, 12,  6],\n",
       "          [ 3, 14,  9],\n",
       "          [ 9, 12,  9],\n",
       "          [ 3, 11,  9]],\n",
       "\n",
       "         [[ 6, 14,  8],\n",
       "          [ 6, 10,  4],\n",
       "          [ 4, 14,  4],\n",
       "          [ 7, 13,  2]],\n",
       "\n",
       "         [[ 4,  8,  4],\n",
       "          [ 9,  8,  2],\n",
       "          [ 9,  9,  3],\n",
       "          [ 7, 12,  5]],\n",
       "\n",
       "         [[ 8, 15,  2],\n",
       "          [ 9, 14,  2],\n",
       "          [ 6, 14,  6],\n",
       "          [ 7,  8,  2]]]],\n",
       "\n",
       "\n",
       "\n",
       "       [[[[12, 12,  9],\n",
       "          [11,  7,  8],\n",
       "          [11,  8,  9],\n",
       "          [ 8,  9, 10]],\n",
       "\n",
       "         [[15, 10,  7],\n",
       "          [12,  7,  6],\n",
       "          [13,  5,  4],\n",
       "          [12,  8,  7]],\n",
       "\n",
       "         [[11,  6,  8],\n",
       "          [10,  8,  9],\n",
       "          [15,  9,  5],\n",
       "          [11,  8, 10]],\n",
       "\n",
       "         [[13, 10,  7],\n",
       "          [13,  6, 10],\n",
       "          [ 8,  6,  8],\n",
       "          [15,  7,  3]],\n",
       "\n",
       "         [[10,  5,  8],\n",
       "          [15,  9,  3],\n",
       "          [10, 10,  9],\n",
       "          [ 8, 11,  5]]],\n",
       "\n",
       "\n",
       "        [[[12, 13,  9],\n",
       "          [ 8,  6, 15],\n",
       "          [ 5, 12, 14],\n",
       "          [10,  8, 10]],\n",
       "\n",
       "         [[12,  9, 12],\n",
       "          [ 5, 12, 15],\n",
       "          [ 8,  8, 16],\n",
       "          [10,  7, 15]],\n",
       "\n",
       "         [[10,  9, 12],\n",
       "          [ 7,  7, 13],\n",
       "          [ 8,  8, 16],\n",
       "          [ 6,  7, 10]],\n",
       "\n",
       "         [[ 8, 10, 10],\n",
       "          [ 5,  7, 10],\n",
       "          [10, 12,  9],\n",
       "          [ 6, 13, 13]],\n",
       "\n",
       "         [[ 9, 13, 13],\n",
       "          [ 7, 11, 13],\n",
       "          [ 8, 11, 11],\n",
       "          [12, 13, 16]]],\n",
       "\n",
       "\n",
       "        [[[ 4,  5, 10],\n",
       "          [ 9, 10,  4],\n",
       "          [ 5,  4,  9],\n",
       "          [ 8,  6,  4]],\n",
       "\n",
       "         [[ 4,  6,  3],\n",
       "          [ 6,  6,  6],\n",
       "          [ 4,  3,  6],\n",
       "          [ 5,  8,  6]],\n",
       "\n",
       "         [[ 8,  6,  3],\n",
       "          [ 3,  7,  8],\n",
       "          [10,  3,  9],\n",
       "          [ 3,  4,  6]],\n",
       "\n",
       "         [[ 4,  8,  5],\n",
       "          [ 9,  8,  9],\n",
       "          [ 8, 10,  3],\n",
       "          [ 5, 10, 10]],\n",
       "\n",
       "         [[ 4,  7,  8],\n",
       "          [ 3,  7,  5],\n",
       "          [ 3, 10,  7],\n",
       "          [ 5,  4, 10]]],\n",
       "\n",
       "\n",
       "        [[[ 7, 11, 14],\n",
       "          [ 4, 12, 13],\n",
       "          [ 6, 12, 11],\n",
       "          [ 5, 13, 16]],\n",
       "\n",
       "         [[ 3, 12, 13],\n",
       "          [ 7, 11, 10],\n",
       "          [ 7, 11,  9],\n",
       "          [ 9, 15, 13]],\n",
       "\n",
       "         [[ 9,  9, 12],\n",
       "          [ 3, 14,  9],\n",
       "          [ 7, 10,  9],\n",
       "          [ 5, 10, 14]],\n",
       "\n",
       "         [[ 6, 16,  9],\n",
       "          [ 9,  9, 14],\n",
       "          [ 8, 13, 11],\n",
       "          [ 4, 12, 14]],\n",
       "\n",
       "         [[ 6, 11,  9],\n",
       "          [ 5, 13, 13],\n",
       "          [ 3, 12,  9],\n",
       "          [ 4, 12, 12]]],\n",
       "\n",
       "\n",
       "        [[[11, 13, 11],\n",
       "          [12,  8, 11],\n",
       "          [10, 13,  6],\n",
       "          [15, 13, 10]],\n",
       "\n",
       "         [[16,  6,  8],\n",
       "          [10, 11,  8],\n",
       "          [12,  6,  6],\n",
       "          [12, 10,  9]],\n",
       "\n",
       "         [[12, 10,  5],\n",
       "          [10, 11,  7],\n",
       "          [10, 10, 11],\n",
       "          [15,  8,  8]],\n",
       "\n",
       "         [[ 9, 10,  5],\n",
       "          [ 9, 10, 11],\n",
       "          [ 9,  9,  9],\n",
       "          [ 9,  7,  6]],\n",
       "\n",
       "         [[15, 13, 11],\n",
       "          [ 9,  9,  7],\n",
       "          [14, 11, 11],\n",
       "          [13, 13,  8]]],\n",
       "\n",
       "\n",
       "        [[[ 3, 14,  6],\n",
       "          [ 5, 11,  2],\n",
       "          [ 5, 12,  3],\n",
       "          [ 4, 13,  8]],\n",
       "\n",
       "         [[ 4,  9,  6],\n",
       "          [ 8,  9,  9],\n",
       "          [ 7,  9,  2],\n",
       "          [ 3, 10,  5]],\n",
       "\n",
       "         [[ 4, 12,  8],\n",
       "          [ 3, 13,  8],\n",
       "          [ 3, 10,  5],\n",
       "          [ 9,  9,  7]],\n",
       "\n",
       "         [[ 2, 15,  3],\n",
       "          [ 2, 15,  5],\n",
       "          [ 9, 11,  7],\n",
       "          [ 8,  8,  4]],\n",
       "\n",
       "         [[ 5, 10,  9],\n",
       "          [ 9, 12,  3],\n",
       "          [ 3,  9,  4],\n",
       "          [ 2, 15,  7]]]],\n",
       "\n",
       "\n",
       "\n",
       "       [[[[14, 10,  5],\n",
       "          [14,  8,  9],\n",
       "          [ 9,  9,  5],\n",
       "          [14, 12,  5]],\n",
       "\n",
       "         [[10,  9, 10],\n",
       "          [10, 10,  3],\n",
       "          [12,  9, 10],\n",
       "          [11,  8,  6]],\n",
       "\n",
       "         [[15,  8,  6],\n",
       "          [ 8,  6,  6],\n",
       "          [10,  7,  7],\n",
       "          [14, 10,  4]],\n",
       "\n",
       "         [[15,  6,  5],\n",
       "          [15, 12,  4],\n",
       "          [15,  6,  6],\n",
       "          [ 8,  9,  3]],\n",
       "\n",
       "         [[13,  9,  9],\n",
       "          [14, 12, 10],\n",
       "          [11,  7,  6],\n",
       "          [11,  9,  7]]],\n",
       "\n",
       "\n",
       "        [[[10,  8, 11],\n",
       "          [ 5, 13, 13],\n",
       "          [ 7,  9, 11],\n",
       "          [10,  6, 13]],\n",
       "\n",
       "         [[ 5,  6, 12],\n",
       "          [ 8,  9, 11],\n",
       "          [10, 13,  9],\n",
       "          [ 6,  8, 10]],\n",
       "\n",
       "         [[11,  9, 13],\n",
       "          [12,  6, 11],\n",
       "          [ 5,  9, 13],\n",
       "          [10, 13, 13]],\n",
       "\n",
       "         [[11, 12, 16],\n",
       "          [11,  9, 11],\n",
       "          [ 6, 11,  9],\n",
       "          [ 7,  7,  9]],\n",
       "\n",
       "         [[ 8,  6,  9],\n",
       "          [11,  8, 14],\n",
       "          [ 9,  7, 11],\n",
       "          [ 5,  8, 14]]],\n",
       "\n",
       "\n",
       "        [[[ 5,  8,  7],\n",
       "          [ 8,  3, 10],\n",
       "          [ 9, 10,  3],\n",
       "          [10,  7,  8]],\n",
       "\n",
       "         [[10,  7,  9],\n",
       "          [ 9,  4, 10],\n",
       "          [ 4,  6,  5],\n",
       "          [ 3,  9,  6]],\n",
       "\n",
       "         [[ 3,  6,  3],\n",
       "          [ 8,  6, 10],\n",
       "          [ 7,  8,  3],\n",
       "          [ 7, 10,  9]],\n",
       "\n",
       "         [[ 3,  4, 10],\n",
       "          [10,  9,  8],\n",
       "          [ 5,  5,  4],\n",
       "          [ 6,  5,  7]],\n",
       "\n",
       "         [[ 4, 10,  4],\n",
       "          [ 8,  7,  9],\n",
       "          [ 8,  7,  9],\n",
       "          [ 6,  8, 10]]],\n",
       "\n",
       "\n",
       "        [[[ 6,  9, 12],\n",
       "          [ 2, 12, 15],\n",
       "          [ 3, 10, 11],\n",
       "          [ 6, 16, 14]],\n",
       "\n",
       "         [[ 6, 14, 14],\n",
       "          [ 9, 11, 11],\n",
       "          [ 6, 15, 14],\n",
       "          [ 6, 12, 15]],\n",
       "\n",
       "         [[ 9, 16, 13],\n",
       "          [ 8, 11, 12],\n",
       "          [ 8, 16, 10],\n",
       "          [ 3,  9,  9]],\n",
       "\n",
       "         [[ 5, 14, 15],\n",
       "          [ 6, 10, 14],\n",
       "          [ 7, 12, 13],\n",
       "          [ 3, 16, 11]],\n",
       "\n",
       "         [[ 5, 14, 10],\n",
       "          [ 4, 12, 14],\n",
       "          [ 7, 15, 13],\n",
       "          [ 5, 13, 10]]],\n",
       "\n",
       "\n",
       "        [[[13, 10, 10],\n",
       "          [12,  6,  9],\n",
       "          [10, 13, 11],\n",
       "          [15, 13, 10]],\n",
       "\n",
       "         [[15,  8,  6],\n",
       "          [ 9, 13,  7],\n",
       "          [13,  7, 11],\n",
       "          [ 9,  9,  7]],\n",
       "\n",
       "         [[ 9, 10,  7],\n",
       "          [14, 10,  6],\n",
       "          [10,  6,  5],\n",
       "          [14, 13, 10]],\n",
       "\n",
       "         [[13,  7,  5],\n",
       "          [13, 10,  7],\n",
       "          [ 9,  6,  9],\n",
       "          [14,  7,  8]],\n",
       "\n",
       "         [[16,  9,  4],\n",
       "          [14, 13,  5],\n",
       "          [16, 11,  4],\n",
       "          [11,  8,  7]]],\n",
       "\n",
       "\n",
       "        [[[ 9, 12,  4],\n",
       "          [ 7,  9,  6],\n",
       "          [ 4, 12,  6],\n",
       "          [ 7, 12,  6]],\n",
       "\n",
       "         [[ 8, 14,  9],\n",
       "          [ 6, 13,  6],\n",
       "          [ 5, 12,  8],\n",
       "          [ 9, 14,  3]],\n",
       "\n",
       "         [[ 7, 14,  9],\n",
       "          [ 7,  9,  5],\n",
       "          [ 2,  8,  9],\n",
       "          [ 5, 13,  9]],\n",
       "\n",
       "         [[ 8,  9,  3],\n",
       "          [ 7, 12,  2],\n",
       "          [ 6, 10,  7],\n",
       "          [ 6, 13,  5]],\n",
       "\n",
       "         [[ 7,  9,  3],\n",
       "          [ 4, 15,  8],\n",
       "          [ 9, 11,  2],\n",
       "          [ 5,  8,  7]]]],\n",
       "\n",
       "\n",
       "\n",
       "       ...,\n",
       "\n",
       "\n",
       "\n",
       "       [[[[ 9,  8,  9],\n",
       "          [ 9, 12,  5],\n",
       "          [ 9,  6,  7],\n",
       "          [11, 10,  5]],\n",
       "\n",
       "         [[ 9,  7,  9],\n",
       "          [ 8,  8,  9],\n",
       "          [14,  6,  6],\n",
       "          [11, 11,  5]],\n",
       "\n",
       "         [[11,  8,  6],\n",
       "          [15, 12,  6],\n",
       "          [ 8, 10,  4],\n",
       "          [ 9,  5,  3]],\n",
       "\n",
       "         [[ 9,  7, 10],\n",
       "          [11, 11,  7],\n",
       "          [ 8,  6,  7],\n",
       "          [ 9,  6,  7]],\n",
       "\n",
       "         [[11,  8,  9],\n",
       "          [ 8, 12,  4],\n",
       "          [12, 10, 10],\n",
       "          [ 8, 10,  7]]],\n",
       "\n",
       "\n",
       "        [[[11, 13, 10],\n",
       "          [10,  9, 11],\n",
       "          [ 7, 12, 10],\n",
       "          [ 6, 13, 12]],\n",
       "\n",
       "         [[ 8,  6, 12],\n",
       "          [ 5, 10, 12],\n",
       "          [11, 10, 16],\n",
       "          [ 6, 13, 13]],\n",
       "\n",
       "         [[ 9,  8, 11],\n",
       "          [12, 12,  9],\n",
       "          [10, 12, 11],\n",
       "          [12,  7, 14]],\n",
       "\n",
       "         [[ 8, 10, 14],\n",
       "          [ 9,  7, 14],\n",
       "          [ 9, 12, 11],\n",
       "          [ 5,  6, 15]],\n",
       "\n",
       "         [[11, 10, 11],\n",
       "          [ 8,  6, 15],\n",
       "          [ 5,  6, 12],\n",
       "          [ 6, 13,  9]]],\n",
       "\n",
       "\n",
       "        [[[ 7,  8,  7],\n",
       "          [ 6,  7,  5],\n",
       "          [ 4,  5,  9],\n",
       "          [ 8,  8,  5]],\n",
       "\n",
       "         [[10,  7,  8],\n",
       "          [ 9,  4, 10],\n",
       "          [ 9,  8,  8],\n",
       "          [ 3, 10, 10]],\n",
       "\n",
       "         [[ 6,  7,  3],\n",
       "          [ 4,  8,  3],\n",
       "          [ 5,  9,  5],\n",
       "          [10,  3,  3]],\n",
       "\n",
       "         [[ 4,  7,  3],\n",
       "          [ 8,  6,  9],\n",
       "          [ 3,  4,  9],\n",
       "          [ 9,  7,  8]],\n",
       "\n",
       "         [[ 6, 10,  6],\n",
       "          [10,  9,  6],\n",
       "          [ 7,  9,  6],\n",
       "          [ 7,  7,  5]]],\n",
       "\n",
       "\n",
       "        [[[ 3, 11, 15],\n",
       "          [ 7, 13, 10],\n",
       "          [ 5, 11, 14],\n",
       "          [ 2, 10, 11]],\n",
       "\n",
       "         [[ 6, 11,  9],\n",
       "          [ 6, 16, 16],\n",
       "          [ 6, 10, 13],\n",
       "          [ 4, 16, 14]],\n",
       "\n",
       "         [[ 3, 10, 14],\n",
       "          [ 6, 12, 15],\n",
       "          [ 5, 13, 16],\n",
       "          [ 9, 10, 14]],\n",
       "\n",
       "         [[ 2, 11, 10],\n",
       "          [ 3, 10, 10],\n",
       "          [ 2, 12, 13],\n",
       "          [ 6,  9, 14]],\n",
       "\n",
       "         [[ 3, 10, 16],\n",
       "          [ 6, 13, 12],\n",
       "          [ 4,  9, 11],\n",
       "          [ 4, 10, 15]]],\n",
       "\n",
       "\n",
       "        [[[13,  7,  4],\n",
       "          [15, 10,  7],\n",
       "          [12,  7,  9],\n",
       "          [12,  6, 10]],\n",
       "\n",
       "         [[16, 12,  9],\n",
       "          [12, 13,  4],\n",
       "          [13,  9,  4],\n",
       "          [10,  6,  9]],\n",
       "\n",
       "         [[13,  6, 10],\n",
       "          [12,  8,  7],\n",
       "          [ 9,  7,  4],\n",
       "          [13, 10,  9]],\n",
       "\n",
       "         [[10, 10, 11],\n",
       "          [15, 13,  4],\n",
       "          [13, 12,  8],\n",
       "          [12, 11,  5]],\n",
       "\n",
       "         [[11, 13,  7],\n",
       "          [10, 11,  8],\n",
       "          [13, 12,  7],\n",
       "          [ 9, 10,  9]]],\n",
       "\n",
       "\n",
       "        [[[ 9, 13,  5],\n",
       "          [ 4, 14,  7],\n",
       "          [ 6,  8,  5],\n",
       "          [ 9, 12,  2]],\n",
       "\n",
       "         [[ 8,  8,  8],\n",
       "          [ 5,  9,  7],\n",
       "          [ 2, 15,  2],\n",
       "          [ 3,  9,  7]],\n",
       "\n",
       "         [[ 4, 12,  6],\n",
       "          [ 4, 11,  9],\n",
       "          [ 9, 12,  2],\n",
       "          [ 9, 12,  6]],\n",
       "\n",
       "         [[ 7,  8,  5],\n",
       "          [ 9, 10,  9],\n",
       "          [ 5, 13,  8],\n",
       "          [ 3, 12,  5]],\n",
       "\n",
       "         [[ 6,  8,  6],\n",
       "          [ 9,  9,  6],\n",
       "          [ 6,  8,  8],\n",
       "          [ 6, 14,  4]]]],\n",
       "\n",
       "\n",
       "\n",
       "       [[[[12, 11,  8],\n",
       "          [11,  6,  8],\n",
       "          [13,  9,  9],\n",
       "          [11,  9,  4]],\n",
       "\n",
       "         [[12, 10,  7],\n",
       "          [15,  5,  3],\n",
       "          [ 9,  6,  8],\n",
       "          [13, 12, 10]],\n",
       "\n",
       "         [[15,  5,  7],\n",
       "          [15, 11, 10],\n",
       "          [ 9,  5, 10],\n",
       "          [13,  5,  3]],\n",
       "\n",
       "         [[15,  6,  6],\n",
       "          [15, 11,  7],\n",
       "          [ 8,  7,  9],\n",
       "          [ 8,  6, 10]],\n",
       "\n",
       "         [[ 9,  6,  3],\n",
       "          [ 8,  6,  5],\n",
       "          [15,  8, 10],\n",
       "          [12, 11,  6]]],\n",
       "\n",
       "\n",
       "        [[[ 8, 10, 15],\n",
       "          [ 9,  8,  9],\n",
       "          [ 6,  8, 15],\n",
       "          [ 6,  7, 16]],\n",
       "\n",
       "         [[12,  9, 16],\n",
       "          [11, 10, 15],\n",
       "          [ 7, 13, 12],\n",
       "          [10, 12, 14]],\n",
       "\n",
       "         [[11, 13, 10],\n",
       "          [11,  7, 15],\n",
       "          [12,  6, 12],\n",
       "          [10, 10, 12]],\n",
       "\n",
       "         [[10, 13,  9],\n",
       "          [ 5,  6, 12],\n",
       "          [ 6, 10,  9],\n",
       "          [11,  6,  9]],\n",
       "\n",
       "         [[ 6,  7, 10],\n",
       "          [12,  8, 15],\n",
       "          [11, 11, 13],\n",
       "          [11, 12, 16]]],\n",
       "\n",
       "\n",
       "        [[[ 7,  4,  4],\n",
       "          [ 7,  5,  9],\n",
       "          [ 4,  8,  4],\n",
       "          [ 7,  6,  7]],\n",
       "\n",
       "         [[ 6, 10,  6],\n",
       "          [ 7,  6,  3],\n",
       "          [10,  5,  5],\n",
       "          [ 3,  3,  5]],\n",
       "\n",
       "         [[ 8,  3,  3],\n",
       "          [10,  6,  4],\n",
       "          [ 8,  5,  5],\n",
       "          [ 5,  8,  4]],\n",
       "\n",
       "         [[ 8,  9,  7],\n",
       "          [ 3,  5,  7],\n",
       "          [ 9,  4,  4],\n",
       "          [ 9,  9,  5]],\n",
       "\n",
       "         [[ 7,  4,  8],\n",
       "          [ 8, 10,  6],\n",
       "          [10,  9,  7],\n",
       "          [ 5,  9,  6]]],\n",
       "\n",
       "\n",
       "        [[[ 3, 16, 10],\n",
       "          [ 3, 12,  9],\n",
       "          [ 2, 10, 14],\n",
       "          [ 8, 16,  9]],\n",
       "\n",
       "         [[ 7,  9,  9],\n",
       "          [ 3, 13,  9],\n",
       "          [ 7, 11, 11],\n",
       "          [ 6, 14, 13]],\n",
       "\n",
       "         [[ 9, 16, 11],\n",
       "          [ 2, 11, 10],\n",
       "          [ 3, 12, 11],\n",
       "          [ 8, 10, 13]],\n",
       "\n",
       "         [[ 6, 12, 14],\n",
       "          [ 9, 15, 14],\n",
       "          [ 7,  9, 16],\n",
       "          [ 5, 12, 14]],\n",
       "\n",
       "         [[ 6,  9, 11],\n",
       "          [ 9, 16, 11],\n",
       "          [ 8, 13, 10],\n",
       "          [ 5, 15, 12]]],\n",
       "\n",
       "\n",
       "        [[[ 9, 10,  9],\n",
       "          [14,  7, 11],\n",
       "          [ 9, 13,  9],\n",
       "          [11,  8, 11]],\n",
       "\n",
       "         [[11, 13,  7],\n",
       "          [15, 10, 11],\n",
       "          [11, 13, 11],\n",
       "          [ 9, 10,  9]],\n",
       "\n",
       "         [[13,  6,  9],\n",
       "          [12,  8,  9],\n",
       "          [13,  7,  5],\n",
       "          [ 9, 12,  6]],\n",
       "\n",
       "         [[10, 13,  4],\n",
       "          [11,  8,  6],\n",
       "          [16,  7,  6],\n",
       "          [ 9, 11,  9]],\n",
       "\n",
       "         [[10, 13, 11],\n",
       "          [13, 12,  9],\n",
       "          [14,  8,  7],\n",
       "          [14,  6,  4]]],\n",
       "\n",
       "\n",
       "        [[[ 7, 13,  5],\n",
       "          [ 9,  8,  5],\n",
       "          [ 2,  9,  5],\n",
       "          [ 9,  9,  3]],\n",
       "\n",
       "         [[ 9, 10,  7],\n",
       "          [ 7,  9,  2],\n",
       "          [ 9,  9,  5],\n",
       "          [ 3, 14,  5]],\n",
       "\n",
       "         [[ 7, 11,  9],\n",
       "          [ 3,  8,  7],\n",
       "          [ 9,  8,  7],\n",
       "          [ 9, 11,  6]],\n",
       "\n",
       "         [[ 5, 10,  9],\n",
       "          [ 6,  9,  2],\n",
       "          [ 6, 14,  4],\n",
       "          [ 3, 12,  4]],\n",
       "\n",
       "         [[ 7, 11,  8],\n",
       "          [ 4,  8,  4],\n",
       "          [ 7, 11,  5],\n",
       "          [ 3, 15,  2]]]],\n",
       "\n",
       "\n",
       "\n",
       "       [[[[14,  5,  8],\n",
       "          [10,  5,  8],\n",
       "          [13,  5,  5],\n",
       "          [13,  5,  8]],\n",
       "\n",
       "         [[10,  7,  3],\n",
       "          [14,  8,  6],\n",
       "          [ 8,  8,  3],\n",
       "          [14,  7,  7]],\n",
       "\n",
       "         [[ 9,  9,  5],\n",
       "          [14,  7,  3],\n",
       "          [14, 11,  6],\n",
       "          [ 8,  6,  7]],\n",
       "\n",
       "         [[12,  5,  3],\n",
       "          [13,  7,  7],\n",
       "          [12, 11,  7],\n",
       "          [ 9, 12,  5]],\n",
       "\n",
       "         [[ 8,  5,  4],\n",
       "          [12,  7,  4],\n",
       "          [ 9, 10,  9],\n",
       "          [ 8,  9,  8]]],\n",
       "\n",
       "\n",
       "        [[[12, 12, 11],\n",
       "          [ 9, 13, 12],\n",
       "          [ 9, 10,  9],\n",
       "          [ 6,  7, 13]],\n",
       "\n",
       "         [[10, 10, 11],\n",
       "          [10,  6,  9],\n",
       "          [ 6, 13,  9],\n",
       "          [ 5,  8, 14]],\n",
       "\n",
       "         [[ 5,  9, 13],\n",
       "          [ 8, 10, 14],\n",
       "          [ 7, 13,  9],\n",
       "          [11,  6, 12]],\n",
       "\n",
       "         [[ 6, 13, 16],\n",
       "          [ 5,  6, 15],\n",
       "          [ 5,  7, 13],\n",
       "          [10,  6, 12]],\n",
       "\n",
       "         [[ 5,  8, 10],\n",
       "          [ 8,  9, 11],\n",
       "          [11, 10, 14],\n",
       "          [ 8,  6, 14]]],\n",
       "\n",
       "\n",
       "        [[[ 5,  3,  6],\n",
       "          [ 4,  4,  8],\n",
       "          [ 6,  4,  5],\n",
       "          [ 4,  8,  5]],\n",
       "\n",
       "         [[ 7,  8,  8],\n",
       "          [ 8, 10,  5],\n",
       "          [ 7, 10,  5],\n",
       "          [10, 10,  7]],\n",
       "\n",
       "         [[ 5,  9,  8],\n",
       "          [ 4,  7,  3],\n",
       "          [ 8,  3,  5],\n",
       "          [ 5,  4, 10]],\n",
       "\n",
       "         [[ 9,  9,  5],\n",
       "          [10,  4,  4],\n",
       "          [ 9,  3,  7],\n",
       "          [ 3,  6,  9]],\n",
       "\n",
       "         [[ 8,  4,  6],\n",
       "          [ 6,  3,  8],\n",
       "          [ 7,  3,  9],\n",
       "          [ 8,  9, 10]]],\n",
       "\n",
       "\n",
       "        [[[ 4, 15, 14],\n",
       "          [ 5, 16, 15],\n",
       "          [ 7, 11, 13],\n",
       "          [ 4, 14, 12]],\n",
       "\n",
       "         [[ 3, 14, 10],\n",
       "          [ 7, 12, 13],\n",
       "          [ 9, 13, 14],\n",
       "          [ 5,  9, 15]],\n",
       "\n",
       "         [[ 2, 12,  9],\n",
       "          [ 3, 14, 16],\n",
       "          [ 9, 12, 13],\n",
       "          [ 2, 12, 13]],\n",
       "\n",
       "         [[ 9,  9, 15],\n",
       "          [ 9, 15, 11],\n",
       "          [ 9, 11, 14],\n",
       "          [ 6,  9,  9]],\n",
       "\n",
       "         [[ 2,  9,  9],\n",
       "          [ 3, 15, 12],\n",
       "          [ 7, 13,  9],\n",
       "          [ 7, 14, 15]]],\n",
       "\n",
       "\n",
       "        [[[10,  6,  8],\n",
       "          [11, 13,  4],\n",
       "          [11,  9,  6],\n",
       "          [10,  7,  8]],\n",
       "\n",
       "         [[10,  7, 11],\n",
       "          [15, 10,  6],\n",
       "          [ 9,  7, 10],\n",
       "          [13, 13,  8]],\n",
       "\n",
       "         [[10,  9,  8],\n",
       "          [10,  6,  8],\n",
       "          [15, 10, 11],\n",
       "          [14, 13,  5]],\n",
       "\n",
       "         [[13,  9,  8],\n",
       "          [14,  7,  4],\n",
       "          [13, 12,  9],\n",
       "          [ 9, 10,  8]],\n",
       "\n",
       "         [[15, 10, 11],\n",
       "          [13,  7,  8],\n",
       "          [16, 13,  6],\n",
       "          [15,  7,  4]]],\n",
       "\n",
       "\n",
       "        [[[ 8, 15,  2],\n",
       "          [ 8, 10,  5],\n",
       "          [ 4,  8,  7],\n",
       "          [ 9, 12,  2]],\n",
       "\n",
       "         [[ 3,  8,  5],\n",
       "          [ 8, 15,  4],\n",
       "          [ 6, 12,  4],\n",
       "          [ 3, 12,  7]],\n",
       "\n",
       "         [[ 7, 15,  5],\n",
       "          [ 3, 13,  6],\n",
       "          [ 8, 12,  2],\n",
       "          [ 3, 10,  5]],\n",
       "\n",
       "         [[ 2, 10,  2],\n",
       "          [ 9, 13,  2],\n",
       "          [ 5, 11,  8],\n",
       "          [ 5, 11,  5]],\n",
       "\n",
       "         [[ 2,  8,  2],\n",
       "          [ 2,  8,  9],\n",
       "          [ 8, 14,  5],\n",
       "          [ 2, 15,  9]]]]])"
      ]
     },
     "execution_count": 102,
     "metadata": {},
     "output_type": "execute_result"
    }
   ],
   "source": [
    "A+B"
   ]
  },
  {
   "cell_type": "code",
   "execution_count": 103,
   "metadata": {},
   "outputs": [],
   "source": [
    "from time import time"
   ]
  },
  {
   "cell_type": "code",
   "execution_count": 104,
   "metadata": {},
   "outputs": [],
   "source": [
    "A = np.random.rand(3,1000)"
   ]
  },
  {
   "cell_type": "code",
   "execution_count": 105,
   "metadata": {},
   "outputs": [],
   "source": [
    "n = np.linalg.norm(A, axis=0)"
   ]
  },
  {
   "cell_type": "code",
   "execution_count": 106,
   "metadata": {},
   "outputs": [
    {
     "data": {
      "text/plain": [
       "(1000,)"
      ]
     },
     "execution_count": 106,
     "metadata": {},
     "output_type": "execute_result"
    }
   ],
   "source": [
    "n.shape"
   ]
  },
  {
   "cell_type": "code",
   "execution_count": 107,
   "metadata": {},
   "outputs": [],
   "source": [
    "n2 = np.tile(n, (3,1))"
   ]
  },
  {
   "cell_type": "code",
   "execution_count": 108,
   "metadata": {},
   "outputs": [
    {
     "data": {
      "text/plain": [
       "(3, 1000)"
      ]
     },
     "execution_count": 108,
     "metadata": {},
     "output_type": "execute_result"
    }
   ],
   "source": [
    "n2.shape"
   ]
  },
  {
   "cell_type": "code",
   "execution_count": 109,
   "metadata": {},
   "outputs": [
    {
     "name": "stdout",
     "output_type": "stream",
     "text": [
      "0.00023174285888671875\n"
     ]
    }
   ],
   "source": [
    "t1=time()\n",
    "res = A/n2\n",
    "print(time()-t1)"
   ]
  },
  {
   "cell_type": "code",
   "execution_count": 110,
   "metadata": {},
   "outputs": [
    {
     "name": "stdout",
     "output_type": "stream",
     "text": [
      "0.00024962425231933594\n"
     ]
    }
   ],
   "source": [
    "t1=time()\n",
    "res2 = A/n\n",
    "print(time()-t1)"
   ]
  },
  {
   "cell_type": "code",
   "execution_count": 111,
   "metadata": {},
   "outputs": [
    {
     "data": {
      "text/plain": [
       "array([[ True,  True,  True, ...,  True,  True,  True],\n",
       "       [ True,  True,  True, ...,  True,  True,  True],\n",
       "       [ True,  True,  True, ...,  True,  True,  True]])"
      ]
     },
     "execution_count": 111,
     "metadata": {},
     "output_type": "execute_result"
    }
   ],
   "source": [
    "res == res2"
   ]
  },
  {
   "cell_type": "code",
   "execution_count": 112,
   "metadata": {},
   "outputs": [
    {
     "data": {
      "text/plain": [
       "True"
      ]
     },
     "execution_count": 112,
     "metadata": {},
     "output_type": "execute_result"
    }
   ],
   "source": [
    "np.all(res == res2)"
   ]
  },
  {
   "cell_type": "code",
   "execution_count": 113,
   "metadata": {},
   "outputs": [],
   "source": [
    "# Shape/axis manipulation\n",
    "A = np.random.rand(4,3,2)"
   ]
  },
  {
   "cell_type": "code",
   "execution_count": 114,
   "metadata": {},
   "outputs": [
    {
     "data": {
      "text/plain": [
       "array([[[0.2717007 , 0.37410729],\n",
       "        [0.15182305, 0.17926085],\n",
       "        [0.68521613, 0.49579655]],\n",
       "\n",
       "       [[0.40088175, 0.48994812],\n",
       "        [0.59589624, 0.16482749],\n",
       "        [0.95618263, 0.64959929]],\n",
       "\n",
       "       [[0.85074009, 0.5067051 ],\n",
       "        [0.11549053, 0.60024986],\n",
       "        [0.40106497, 0.86037676]],\n",
       "\n",
       "       [[0.78790155, 0.42559559],\n",
       "        [0.95976142, 0.8303715 ],\n",
       "        [0.01081147, 0.0933255 ]]])"
      ]
     },
     "execution_count": 114,
     "metadata": {},
     "output_type": "execute_result"
    }
   ],
   "source": [
    "A"
   ]
  },
  {
   "cell_type": "code",
   "execution_count": 115,
   "metadata": {},
   "outputs": [
    {
     "data": {
      "text/plain": [
       "(4, 3, 2)"
      ]
     },
     "execution_count": 115,
     "metadata": {},
     "output_type": "execute_result"
    }
   ],
   "source": [
    "A.shape"
   ]
  },
  {
   "cell_type": "code",
   "execution_count": 116,
   "metadata": {},
   "outputs": [],
   "source": [
    "B = np.swapaxes(A, 0, 2)"
   ]
  },
  {
   "cell_type": "code",
   "execution_count": 117,
   "metadata": {},
   "outputs": [
    {
     "data": {
      "text/plain": [
       "array([[[0.2717007 , 0.40088175, 0.85074009, 0.78790155],\n",
       "        [0.15182305, 0.59589624, 0.11549053, 0.95976142],\n",
       "        [0.68521613, 0.95618263, 0.40106497, 0.01081147]],\n",
       "\n",
       "       [[0.37410729, 0.48994812, 0.5067051 , 0.42559559],\n",
       "        [0.17926085, 0.16482749, 0.60024986, 0.8303715 ],\n",
       "        [0.49579655, 0.64959929, 0.86037676, 0.0933255 ]]])"
      ]
     },
     "execution_count": 117,
     "metadata": {},
     "output_type": "execute_result"
    }
   ],
   "source": [
    "B"
   ]
  },
  {
   "cell_type": "code",
   "execution_count": 118,
   "metadata": {},
   "outputs": [
    {
     "data": {
      "text/plain": [
       "(2, 3, 4)"
      ]
     },
     "execution_count": 118,
     "metadata": {},
     "output_type": "execute_result"
    }
   ],
   "source": [
    "B.shape"
   ]
  },
  {
   "cell_type": "code",
   "execution_count": 119,
   "metadata": {},
   "outputs": [],
   "source": [
    "C = A.ravel()"
   ]
  },
  {
   "cell_type": "code",
   "execution_count": 120,
   "metadata": {},
   "outputs": [
    {
     "data": {
      "text/plain": [
       "(24,)"
      ]
     },
     "execution_count": 120,
     "metadata": {},
     "output_type": "execute_result"
    }
   ],
   "source": [
    "C.shape"
   ]
  },
  {
   "cell_type": "code",
   "execution_count": 121,
   "metadata": {},
   "outputs": [
    {
     "data": {
      "text/plain": [
       "24"
      ]
     },
     "execution_count": 121,
     "metadata": {},
     "output_type": "execute_result"
    }
   ],
   "source": [
    "np.prod(A.shape)"
   ]
  },
  {
   "cell_type": "code",
   "execution_count": 122,
   "metadata": {},
   "outputs": [
    {
     "data": {
      "text/plain": [
       "array([0.2717007 , 0.37410729, 0.15182305, 0.17926085, 0.68521613,\n",
       "       0.49579655, 0.40088175, 0.48994812, 0.59589624, 0.16482749,\n",
       "       0.95618263, 0.64959929, 0.85074009, 0.5067051 , 0.11549053,\n",
       "       0.60024986, 0.40106497, 0.86037676, 0.78790155, 0.42559559,\n",
       "       0.95976142, 0.8303715 , 0.01081147, 0.0933255 ])"
      ]
     },
     "execution_count": 122,
     "metadata": {},
     "output_type": "execute_result"
    }
   ],
   "source": [
    "C"
   ]
  },
  {
   "cell_type": "code",
   "execution_count": 123,
   "metadata": {},
   "outputs": [
    {
     "data": {
      "text/plain": [
       "array([[[0.2717007 , 0.37410729],\n",
       "        [0.15182305, 0.17926085],\n",
       "        [0.68521613, 0.49579655]],\n",
       "\n",
       "       [[0.40088175, 0.48994812],\n",
       "        [0.59589624, 0.16482749],\n",
       "        [0.95618263, 0.64959929]],\n",
       "\n",
       "       [[0.85074009, 0.5067051 ],\n",
       "        [0.11549053, 0.60024986],\n",
       "        [0.40106497, 0.86037676]],\n",
       "\n",
       "       [[0.78790155, 0.42559559],\n",
       "        [0.95976142, 0.8303715 ],\n",
       "        [0.01081147, 0.0933255 ]]])"
      ]
     },
     "execution_count": 123,
     "metadata": {},
     "output_type": "execute_result"
    }
   ],
   "source": [
    "C.reshape((4,3,2))"
   ]
  },
  {
   "cell_type": "code",
   "execution_count": 124,
   "metadata": {},
   "outputs": [
    {
     "data": {
      "text/plain": [
       "True"
      ]
     },
     "execution_count": 124,
     "metadata": {},
     "output_type": "execute_result"
    }
   ],
   "source": [
    "np.all(A == C.reshape((4,3,2)))"
   ]
  },
  {
   "cell_type": "code",
   "execution_count": 125,
   "metadata": {},
   "outputs": [
    {
     "data": {
      "text/plain": [
       "(4, 3, 2)"
      ]
     },
     "execution_count": 125,
     "metadata": {},
     "output_type": "execute_result"
    }
   ],
   "source": [
    "# implicit indexing\n",
    "A.shape"
   ]
  },
  {
   "cell_type": "code",
   "execution_count": 126,
   "metadata": {},
   "outputs": [
    {
     "data": {
      "text/plain": [
       "(3, 2)"
      ]
     },
     "execution_count": 126,
     "metadata": {},
     "output_type": "execute_result"
    }
   ],
   "source": [
    "A[0].shape"
   ]
  },
  {
   "cell_type": "code",
   "execution_count": 127,
   "metadata": {},
   "outputs": [
    {
     "data": {
      "text/plain": [
       "(3, 2)"
      ]
     },
     "execution_count": 127,
     "metadata": {},
     "output_type": "execute_result"
    }
   ],
   "source": [
    "A[0,:,:].shape"
   ]
  },
  {
   "cell_type": "code",
   "execution_count": 128,
   "metadata": {},
   "outputs": [
    {
     "data": {
      "text/plain": [
       "(4, 3)"
      ]
     },
     "execution_count": 128,
     "metadata": {},
     "output_type": "execute_result"
    }
   ],
   "source": [
    "A[...,0].shape"
   ]
  },
  {
   "cell_type": "code",
   "execution_count": 129,
   "metadata": {},
   "outputs": [
    {
     "data": {
      "text/plain": [
       "(4, 3)"
      ]
     },
     "execution_count": 129,
     "metadata": {},
     "output_type": "execute_result"
    }
   ],
   "source": [
    "A[:,:,0].shape"
   ]
  },
  {
   "cell_type": "code",
   "execution_count": 130,
   "metadata": {},
   "outputs": [],
   "source": [
    "mask_bool = A > 0.5"
   ]
  },
  {
   "cell_type": "code",
   "execution_count": 131,
   "metadata": {},
   "outputs": [
    {
     "data": {
      "text/plain": [
       "11"
      ]
     },
     "execution_count": 131,
     "metadata": {},
     "output_type": "execute_result"
    }
   ],
   "source": [
    "mask_bool.sum()"
   ]
  },
  {
   "cell_type": "code",
   "execution_count": 132,
   "metadata": {},
   "outputs": [
    {
     "data": {
      "text/plain": [
       "array([0.68521613, 0.59589624, 0.95618263, 0.64959929, 0.85074009,\n",
       "       0.5067051 , 0.60024986, 0.86037676, 0.78790155, 0.95976142,\n",
       "       0.8303715 ])"
      ]
     },
     "execution_count": 132,
     "metadata": {},
     "output_type": "execute_result"
    }
   ],
   "source": [
    "A[mask_bool]"
   ]
  },
  {
   "cell_type": "code",
   "execution_count": 133,
   "metadata": {},
   "outputs": [
    {
     "data": {
      "text/plain": [
       "(11,)"
      ]
     },
     "execution_count": 133,
     "metadata": {},
     "output_type": "execute_result"
    }
   ],
   "source": [
    "A[mask_bool].shape"
   ]
  },
  {
   "cell_type": "code",
   "execution_count": 134,
   "metadata": {},
   "outputs": [],
   "source": [
    "A1 = A[0,0:1]"
   ]
  },
  {
   "cell_type": "code",
   "execution_count": 135,
   "metadata": {},
   "outputs": [],
   "source": [
    "A2 = A[1,0:1]"
   ]
  },
  {
   "cell_type": "code",
   "execution_count": 136,
   "metadata": {},
   "outputs": [
    {
     "data": {
      "text/plain": [
       "(1, 2)"
      ]
     },
     "execution_count": 136,
     "metadata": {},
     "output_type": "execute_result"
    }
   ],
   "source": [
    "A1.shape"
   ]
  },
  {
   "cell_type": "code",
   "execution_count": 137,
   "metadata": {},
   "outputs": [
    {
     "data": {
      "text/plain": [
       "(2, 2)"
      ]
     },
     "execution_count": 137,
     "metadata": {},
     "output_type": "execute_result"
    }
   ],
   "source": [
    "np.concatenate((A1,A2), axis=0).shape"
   ]
  },
  {
   "cell_type": "code",
   "execution_count": 138,
   "metadata": {},
   "outputs": [
    {
     "data": {
      "text/plain": [
       "(1, 4)"
      ]
     },
     "execution_count": 138,
     "metadata": {},
     "output_type": "execute_result"
    }
   ],
   "source": [
    "np.concatenate((A1,A2), axis=1).shape"
   ]
  },
  {
   "cell_type": "code",
   "execution_count": 139,
   "metadata": {},
   "outputs": [],
   "source": [
    "# Fancy indexing with list\n",
    "A = np.linspace(0, 5, 6)"
   ]
  },
  {
   "cell_type": "code",
   "execution_count": 140,
   "metadata": {},
   "outputs": [
    {
     "data": {
      "text/plain": [
       "array([0., 1., 2., 3., 4., 5.])"
      ]
     },
     "execution_count": 140,
     "metadata": {},
     "output_type": "execute_result"
    }
   ],
   "source": [
    "A"
   ]
  },
  {
   "cell_type": "code",
   "execution_count": 141,
   "metadata": {},
   "outputs": [
    {
     "data": {
      "text/plain": [
       "array([0., 0., 4., 3., 3.])"
      ]
     },
     "execution_count": 141,
     "metadata": {},
     "output_type": "execute_result"
    }
   ],
   "source": [
    "A[[0,0,4,3,3]]"
   ]
  },
  {
   "cell_type": "code",
   "execution_count": 142,
   "metadata": {},
   "outputs": [],
   "source": [
    "# Fancy indexing N-dim\n",
    "A = np.random.rand(3,3)"
   ]
  },
  {
   "cell_type": "code",
   "execution_count": 143,
   "metadata": {},
   "outputs": [
    {
     "data": {
      "text/plain": [
       "0.6812608622594735"
      ]
     },
     "execution_count": 143,
     "metadata": {},
     "output_type": "execute_result"
    }
   ],
   "source": [
    "A[0,0]"
   ]
  },
  {
   "cell_type": "code",
   "execution_count": 144,
   "metadata": {},
   "outputs": [
    {
     "data": {
      "text/plain": [
       "0.9069929612581418"
      ]
     },
     "execution_count": 144,
     "metadata": {},
     "output_type": "execute_result"
    }
   ],
   "source": [
    "A[1,1]"
   ]
  },
  {
   "cell_type": "code",
   "execution_count": 145,
   "metadata": {},
   "outputs": [
    {
     "data": {
      "text/plain": [
       "array([0.68126086, 0.90699296])"
      ]
     },
     "execution_count": 145,
     "metadata": {},
     "output_type": "execute_result"
    }
   ],
   "source": [
    "A[[0,1], [0,1]]"
   ]
  },
  {
   "cell_type": "code",
   "execution_count": 146,
   "metadata": {},
   "outputs": [
    {
     "data": {
      "text/plain": [
       "array([[0.68126086, 0.2273551 , 0.56797131],\n",
       "       [0.68126086, 0.2273551 , 0.56797131]])"
      ]
     },
     "execution_count": 146,
     "metadata": {},
     "output_type": "execute_result"
    }
   ],
   "source": [
    "A[[0,0]]"
   ]
  },
  {
   "cell_type": "code",
   "execution_count": 147,
   "metadata": {
    "scrolled": true
   },
   "outputs": [
    {
     "data": {
      "text/plain": [
       "array([[0.2273551 , 0.2273551 ],\n",
       "       [0.90699296, 0.90699296],\n",
       "       [0.08412295, 0.08412295]])"
      ]
     },
     "execution_count": 147,
     "metadata": {},
     "output_type": "execute_result"
    }
   ],
   "source": [
    "A[...,[1,1]]"
   ]
  },
  {
   "cell_type": "markdown",
   "metadata": {},
   "source": [
    "# Scipy "
   ]
  },
  {
   "cell_type": "markdown",
   "metadata": {},
   "source": [
    "SciPy is a collection of mathematical algorithms and convenience functions built on the Numpy extension of Python"
   ]
  },
  {
   "cell_type": "markdown",
   "metadata": {},
   "source": [
    "- Special functions (scipy.special)\n",
    "- Integration (scipy.integrate)\n",
    "- Optimization (scipy.optimize)\n",
    "- Interpolation (scipy.interpolate)\n",
    "- Fourier Transforms (scipy.fftpack)\n",
    "- Signal Processing (scipy.signal)\n",
    "- Linear Algebra (scipy.linalg)\n",
    "- Sparse Eigenvalue Problems with ARPACK\n",
    "- Compressed Sparse Graph Routines (scipy.sparse.csgraph)\n",
    "- Spatial data structures and algorithms (scipy.spatial)\n",
    "- Statistics (scipy.stats)\n",
    "- Multidimensional image processing (scipy.ndimage)\n",
    "- File IO (scipy.io)"
   ]
  },
  {
   "cell_type": "code",
   "execution_count": 148,
   "metadata": {},
   "outputs": [],
   "source": [
    "import pylab as pl"
   ]
  },
  {
   "cell_type": "markdown",
   "metadata": {},
   "source": [
    "### scipy.special"
   ]
  },
  {
   "cell_type": "markdown",
   "metadata": {},
   "source": [
    "The main feature of the scipy.special package is the definition of numerous special functions of mathematical physics"
   ]
  },
  {
   "cell_type": "markdown",
   "metadata": {},
   "source": [
    "## $erf(z) = \\frac{2}{\\sqrt{(\\pi)}} \\int_0^z e^{-t^2}\\,dt$"
   ]
  },
  {
   "cell_type": "code",
   "execution_count": 150,
   "metadata": {},
   "outputs": [
    {
     "data": {
      "text/plain": [
       "[<matplotlib.lines.Line2D at 0x7fd718b978d0>]"
      ]
     },
     "execution_count": 150,
     "metadata": {},
     "output_type": "execute_result"
    },
    {
     "data": {
      "image/png": "[encoded data removed]",
      "text/plain": [
       "<Figure size 432x288 with 1 Axes>"
      ]
     },
     "metadata": {},
     "output_type": "display_data"
    }
   ],
   "source": [
    "from scipy import special\n",
    "x = np.linspace(-3, 3)\n",
    "pl.plot(x, special.erf(x))"
   ]
  },
  {
   "cell_type": "markdown",
   "metadata": {},
   "source": [
    "### scipy.integrate "
   ]
  },
  {
   "cell_type": "code",
   "execution_count": 151,
   "metadata": {},
   "outputs": [],
   "source": [
    "from scipy import integrate\n",
    "result = integrate.quad(np.cos, 0, 10)"
   ]
  },
  {
   "cell_type": "code",
   "execution_count": 152,
   "metadata": {},
   "outputs": [
    {
     "data": {
      "text/plain": [
       "(-0.5440211108893699, 1.4987092449765856e-12)"
      ]
     },
     "execution_count": 152,
     "metadata": {},
     "output_type": "execute_result"
    }
   ],
   "source": [
    "result"
   ]
  },
  {
   "cell_type": "code",
   "execution_count": 153,
   "metadata": {},
   "outputs": [],
   "source": [
    "# \\int cos(x)dx == sin(x)\n",
    "truth = np.sin(10) - np.sin(0)"
   ]
  },
  {
   "cell_type": "code",
   "execution_count": 154,
   "metadata": {},
   "outputs": [
    {
     "data": {
      "text/plain": [
       "1.1102230246251565e-16"
      ]
     },
     "execution_count": 154,
     "metadata": {},
     "output_type": "execute_result"
    }
   ],
   "source": [
    "np.abs(result[0] - truth)"
   ]
  },
  {
   "cell_type": "markdown",
   "metadata": {},
   "source": [
    "### scipy.optimize "
   ]
  },
  {
   "cell_type": "markdown",
   "metadata": {},
   "source": [
    "- Unconstrained and constrained minimization of multivariate scalar functions (minimize) using a variety of algorithms (e.g. BFGS, Nelder-Mead simplex, Newton Conjugate Gradient, COBYLA or SLSQP)\n",
    "- Global (brute-force) optimization routines (e.g. basinhopping, differential_evolution)\n",
    "- Least-squares minimization (least_squares) and curve fitting (curve_fit) algorithms\n",
    "- Scalar univariate functions minimizers (minimize_scalar) and root finders (newton)\n",
    "- Multivariate equation system solvers (root) using a variety of algorithms (e.g. hybrid Powell, Levenberg-Marquardt or large-scale methods such as Newton-Krylov)."
   ]
  },
  {
   "cell_type": "code",
   "execution_count": 155,
   "metadata": {},
   "outputs": [],
   "source": [
    "from scipy.optimize import minimize"
   ]
  },
  {
   "cell_type": "code",
   "execution_count": 156,
   "metadata": {},
   "outputs": [],
   "source": [
    "def rosen(x):\n",
    "    \"\"\"The Rosenbrock function\"\"\"\n",
    "    return sum(100.0*(x[1:]-x[:-1]**2.0)**2.0 + (1-x[:-1])**2.0)"
   ]
  },
  {
   "cell_type": "code",
   "execution_count": 157,
   "metadata": {},
   "outputs": [
    {
     "name": "stdout",
     "output_type": "stream",
     "text": [
      "Optimization terminated successfully.\n",
      "         Current function value: 0.000000\n",
      "         Iterations: 339\n",
      "         Function evaluations: 571\n"
     ]
    }
   ],
   "source": [
    "x0 = np.array([1.3, 0.7, 0.8, 1.9, 1.2])\n",
    "res = minimize(rosen, x0, method='nelder-mead',\n",
    "                options={'xtol': 1e-8, 'disp': True})"
   ]
  },
  {
   "cell_type": "code",
   "execution_count": 158,
   "metadata": {},
   "outputs": [
    {
     "data": {
      "text/plain": [
       "array([1., 1., 1., 1., 1.])"
      ]
     },
     "execution_count": 158,
     "metadata": {},
     "output_type": "execute_result"
    }
   ],
   "source": [
    "res.x"
   ]
  },
  {
   "cell_type": "code",
   "execution_count": 159,
   "metadata": {},
   "outputs": [
    {
     "data": {
      "text/plain": [
       "4.861153433422115e-17"
      ]
     },
     "execution_count": 159,
     "metadata": {},
     "output_type": "execute_result"
    }
   ],
   "source": [
    "rosen(res.x)"
   ]
  },
  {
   "cell_type": "markdown",
   "metadata": {},
   "source": [
    "### scipy.stats"
   ]
  },
  {
   "cell_type": "code",
   "execution_count": 160,
   "metadata": {},
   "outputs": [],
   "source": [
    "from scipy import stats"
   ]
  },
  {
   "cell_type": "code",
   "execution_count": 161,
   "metadata": {},
   "outputs": [],
   "source": [
    "RV = stats.norm(0, 1)"
   ]
  },
  {
   "cell_type": "code",
   "execution_count": 162,
   "metadata": {},
   "outputs": [],
   "source": [
    "data = RV.rvs(1000)"
   ]
  },
  {
   "cell_type": "code",
   "execution_count": 163,
   "metadata": {},
   "outputs": [
    {
     "data": {
      "text/plain": [
       "[<matplotlib.lines.Line2D at 0x7fd71692b4a8>]"
      ]
     },
     "execution_count": 163,
     "metadata": {},
     "output_type": "execute_result"
    },
    {
     "data": {
      "image/png": "[encoded data removed]",
      "text/plain": [
       "<Figure size 432x288 with 1 Axes>"
      ]
     },
     "metadata": {},
     "output_type": "display_data"
    }
   ],
   "source": [
    "pl.plot(data)"
   ]
  },
  {
   "cell_type": "code",
   "execution_count": 164,
   "metadata": {
    "scrolled": true
   },
   "outputs": [
    {
     "data": {
      "image/png": "[encoded data removed]",
      "text/plain": [
       "<Figure size 432x288 with 1 Axes>"
      ]
     },
     "metadata": {},
     "output_type": "display_data"
    }
   ],
   "source": [
    "_=pl.hist(data, bins=20)"
   ]
  },
  {
   "cell_type": "code",
   "execution_count": 165,
   "metadata": {},
   "outputs": [
    {
     "data": {
      "text/plain": [
       "-0.007308803750417706"
      ]
     },
     "execution_count": 165,
     "metadata": {},
     "output_type": "execute_result"
    }
   ],
   "source": [
    "data.mean()"
   ]
  },
  {
   "cell_type": "code",
   "execution_count": 166,
   "metadata": {},
   "outputs": [
    {
     "data": {
      "text/plain": [
       "1.0248089938687108"
      ]
     },
     "execution_count": 166,
     "metadata": {},
     "output_type": "execute_result"
    }
   ],
   "source": [
    "data.var()"
   ]
  },
  {
   "cell_type": "code",
   "execution_count": 167,
   "metadata": {},
   "outputs": [
    {
     "data": {
      "text/plain": [
       "(-0.007308803750417706, 1.0123285009663172)"
      ]
     },
     "execution_count": 167,
     "metadata": {},
     "output_type": "execute_result"
    }
   ],
   "source": [
    "#MLE fit\n",
    "stats.norm.fit(data)"
   ]
  },
  {
   "cell_type": "markdown",
   "metadata": {},
   "source": [
    "# Checkout https://scipy.org/ for detailed documentation and exemples on NumPy and SciPy"
   ]
  },
  {
   "cell_type": "code",
   "execution_count": null,
   "metadata": {},
   "outputs": [],
   "source": []
  }
 ],
 "metadata": {
  "kernelspec": {
   "display_name": "Python 3",
   "language": "python",
   "name": "python3"
  },
  "language_info": {
   "codemirror_mode": {
    "name": "ipython",
    "version": 3
   },
   "file_extension": ".py",
   "mimetype": "text/x-python",
   "name": "python",
   "nbconvert_exporter": "python",
   "pygments_lexer": "ipython3",
   "version": "3.5.2"
  }
 },
 "nbformat": 4,
 "nbformat_minor": 2
}
